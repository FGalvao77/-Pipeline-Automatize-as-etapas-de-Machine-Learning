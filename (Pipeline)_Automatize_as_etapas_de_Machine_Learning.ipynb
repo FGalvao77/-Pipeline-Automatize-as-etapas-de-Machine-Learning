{
  "nbformat": 4,
  "nbformat_minor": 0,
  "metadata": {
    "colab": {
      "name": "(Pipeline) Automatize as etapas de Machine Learning.ipynb",
      "provenance": [],
      "collapsed_sections": [],
      "authorship_tag": "ABX9TyORsmqfKApEuPQTqb1cpBhK",
      "include_colab_link": true
    },
    "kernelspec": {
      "name": "python3",
      "display_name": "Python 3"
    },
    "language_info": {
      "name": "python"
    }
  },
  "cells": [
    {
      "cell_type": "markdown",
      "metadata": {
        "id": "view-in-github",
        "colab_type": "text"
      },
      "source": [
        "<a href=\"https://colab.research.google.com/github/FGalvao77/-Pipeline-Automatize-as-etapas-de-Machine-Learning/blob/main/(Pipeline)_Automatize_as_etapas_de_Machine_Learning.ipynb\" target=\"_parent\"><img src=\"https://colab.research.google.com/assets/colab-badge.svg\" alt=\"Open In Colab\"/></a>"
      ]
    },
    {
      "cell_type": "markdown",
      "metadata": {
        "id": "la8rVjwKnOxq"
      },
      "source": [
        "# **(`Pipelines`) Automatize as etapas de Machine Learning**"
      ]
    },
    {
      "cell_type": "markdown",
      "metadata": {
        "id": "ZL-KVMWTu0tC"
      },
      "source": [
        "**Mas afinal, o que é pipeline de ML?**\n",
        "\n",
        "Um pipeline de Machine Learning é um fluxo de trabalho executável de forma independente de uma tarefa completa de aprendizado de máquina. As subtarefas são encapsuladas como uma série de etapas no pipeline. \n",
        "\n",
        "Os pipelines devem se concentrar em tarefas de aprendizado de máquina, como:\n",
        "\n",
        "- Preparação de dados, incluindo importação, validação e limpeza, mudanças irreversíveis e transformação, normalização e preparo dos dados;\n",
        "- Configuração de treinamento, incluindo argumentos de parametrização, filePaths e configurações de log/relatório;\n",
        "- Treinamento e validação de forma eficiente e repetida. \n",
        "    - A eficiência pode vir da especificação de subconjuntos de dados específicos, diferentes recursos de computação de hardware, processamento distribuído e monitoramento de progresso.\n",
        "- Implantação, incluindo controle de versão, dimensionamento, provisionamento e controle de acesso.\n",
        "\n",
        "As etapas independentes permitem que vários cientistas de dados funcionem no mesmo pipeline ao mesmo tempo, sem sobrecarregar os recursos de computação. As etapas separadas também facilitam o uso de diferentes tipos/tamanhos de computação para cada etapa.\n",
        "\n",
        "Depois que o pipeline é criado, muitas vezes, há mais ajustes finos no loop de treinamento do pipeline. Quando você executa novamente um pipeline, a execução pula para as etapas que precisam executar novamente, como um script de treinamento atualizado. As etapas que não precisam ser executadas novamente são ignoradas.\n",
        "\n"
      ]
    },
    {
      "cell_type": "markdown",
      "metadata": {
        "id": "DFClv70qnTVi"
      },
      "source": [
        "Então vamos ver na prática quais são as etapas de um projeto de machine learning e como podemos otimiza-las."
      ]
    },
    {
      "cell_type": "markdown",
      "metadata": {
        "id": "JIZdrs5knU98"
      },
      "source": [
        "## **Fluxo de Processos de Machine Learning**"
      ]
    },
    {
      "cell_type": "markdown",
      "metadata": {
        "id": "mPkDNHywnYV5"
      },
      "source": [
        "- Pipelines permitem automatizar os fluxos de processos em seus projetos de machine learning.\n",
        "\n",
        "- Reduzimos a quantidade de código.\n",
        "\n",
        "- Menos risco de erros."
      ]
    },
    {
      "cell_type": "code",
      "metadata": {
        "colab": {
          "base_uri": "https://localhost:8080/"
        },
        "id": "zEekAPNVnGS0",
        "outputId": "2ad024dd-8760-4104-934c-22952e86ba95"
      },
      "source": [
        "# instale o category_encoders\n",
        "!pip install category_encoders"
      ],
      "execution_count": 1,
      "outputs": [
        {
          "output_type": "stream",
          "name": "stdout",
          "text": [
            "Requirement already satisfied: category_encoders in /usr/local/lib/python3.7/dist-packages (2.3.0)\n",
            "Requirement already satisfied: pandas>=0.21.1 in /usr/local/lib/python3.7/dist-packages (from category_encoders) (1.1.5)\n",
            "Requirement already satisfied: patsy>=0.5.1 in /usr/local/lib/python3.7/dist-packages (from category_encoders) (0.5.2)\n",
            "Requirement already satisfied: numpy>=1.14.0 in /usr/local/lib/python3.7/dist-packages (from category_encoders) (1.19.5)\n",
            "Requirement already satisfied: scipy>=1.0.0 in /usr/local/lib/python3.7/dist-packages (from category_encoders) (1.4.1)\n",
            "Requirement already satisfied: scikit-learn>=0.20.0 in /usr/local/lib/python3.7/dist-packages (from category_encoders) (1.0.1)\n",
            "Requirement already satisfied: statsmodels>=0.9.0 in /usr/local/lib/python3.7/dist-packages (from category_encoders) (0.10.2)\n",
            "Requirement already satisfied: pytz>=2017.2 in /usr/local/lib/python3.7/dist-packages (from pandas>=0.21.1->category_encoders) (2018.9)\n",
            "Requirement already satisfied: python-dateutil>=2.7.3 in /usr/local/lib/python3.7/dist-packages (from pandas>=0.21.1->category_encoders) (2.8.2)\n",
            "Requirement already satisfied: six in /usr/local/lib/python3.7/dist-packages (from patsy>=0.5.1->category_encoders) (1.15.0)\n",
            "Requirement already satisfied: joblib>=0.11 in /usr/local/lib/python3.7/dist-packages (from scikit-learn>=0.20.0->category_encoders) (1.1.0)\n",
            "Requirement already satisfied: threadpoolctl>=2.0.0 in /usr/local/lib/python3.7/dist-packages (from scikit-learn>=0.20.0->category_encoders) (3.0.0)\n"
          ]
        }
      ]
    },
    {
      "cell_type": "code",
      "metadata": {
        "id": "uCknSCAoOm7G"
      },
      "source": [
        "# importando a biblioteca para ignorar \"erros\"\n",
        "from warnings import filterwarnings\n",
        "filterwarnings('ignore')"
      ],
      "execution_count": 2,
      "outputs": []
    },
    {
      "cell_type": "code",
      "metadata": {
        "id": "1qmYFdg4nNOK"
      },
      "source": [
        "# importando as bibliotecas necessárias\n",
        "import pandas as pd\n",
        "\n",
        "from sklearn.tree import DecisionTreeClassifier\n",
        "from sklearn import datasets\n",
        "\n",
        "from sklearn.pipeline import Pipeline\n",
        "from sklearn.model_selection import train_test_split\n",
        "from sklearn.preprocessing import StandardScaler, MinMaxScaler\n",
        "\n",
        "from category_encoders import OneHotEncoder"
      ],
      "execution_count": 3,
      "outputs": []
    },
    {
      "cell_type": "markdown",
      "metadata": {
        "id": "sTR_DrTeogry"
      },
      "source": [
        "## **1° Etapa: Obtendo os dados.**"
      ]
    },
    {
      "cell_type": "markdown",
      "metadata": {
        "id": "NAufSZR5vs7R"
      },
      "source": [
        "Para atividade prática utlizaremos o dataset `adult`."
      ]
    },
    {
      "cell_type": "markdown",
      "metadata": {
        "id": "7CkKItu-piGv"
      },
      "source": [
        "Esse é um dataset bem famoso e está disponível em [UCI Machine Learning Repository](https://archive.ics.uci.edu/ml/datasets/Adult), onde a tarefa é prever se uma pessoa recebe `> 50K ou <= 50K` ao ano com base em algumas características.\n",
        "\n",
        "Portanto, este é um problema de classificação."
      ]
    },
    {
      "cell_type": "code",
      "metadata": {
        "id": "hUin1v6RpUKZ"
      },
      "source": [
        "# # realizando o carregamento do conjunto de dados para google colab\n",
        "# from google.colab import files  # biblioteca utilizada para carregar os dados para o google colab\n",
        "# uploaded = files.upload()"
      ],
      "execution_count": 4,
      "outputs": []
    },
    {
      "cell_type": "code",
      "metadata": {
        "colab": {
          "base_uri": "https://localhost:8080/"
        },
        "id": "l1e9AeQ1ofgz",
        "outputId": "7e12a39d-934a-430a-c5a0-95dde11e9bde"
      },
      "source": [
        "# realizando o carregamento da base de dados direto da url\n",
        "!wget https://archive.ics.uci.edu/ml/machine-learning-databases/adult/adult.data"
      ],
      "execution_count": 5,
      "outputs": [
        {
          "output_type": "stream",
          "name": "stdout",
          "text": [
            "--2021-11-20 22:48:10--  https://archive.ics.uci.edu/ml/machine-learning-databases/adult/adult.data\n",
            "Resolving archive.ics.uci.edu (archive.ics.uci.edu)... 128.195.10.252\n",
            "Connecting to archive.ics.uci.edu (archive.ics.uci.edu)|128.195.10.252|:443... connected.\n",
            "HTTP request sent, awaiting response... 200 OK\n",
            "Length: 3974305 (3.8M) [application/x-httpd-php]\n",
            "Saving to: ‘adult.data.4’\n",
            "\n",
            "adult.data.4        100%[===================>]   3.79M  9.24MB/s    in 0.4s    \n",
            "\n",
            "2021-11-20 22:48:11 (9.24 MB/s) - ‘adult.data.4’ saved [3974305/3974305]\n",
            "\n"
          ]
        }
      ]
    },
    {
      "cell_type": "code",
      "metadata": {
        "id": "pmEQCWxdnkXa"
      },
      "source": [
        "# carregando a base de dados\n",
        "df = pd.read_csv('/content/adult.data')"
      ],
      "execution_count": 6,
      "outputs": []
    },
    {
      "cell_type": "code",
      "metadata": {
        "colab": {
          "base_uri": "https://localhost:8080/",
          "height": 520
        },
        "id": "7T8Y59ABofpI",
        "outputId": "d1ec0dda-2912-48d0-b094-108bafd79076"
      },
      "source": [
        "# visualizando as 5 primeiras linhas\n",
        "df.head().T"
      ],
      "execution_count": 7,
      "outputs": [
        {
          "output_type": "execute_result",
          "data": {
            "text/html": [
              "<div>\n",
              "<style scoped>\n",
              "    .dataframe tbody tr th:only-of-type {\n",
              "        vertical-align: middle;\n",
              "    }\n",
              "\n",
              "    .dataframe tbody tr th {\n",
              "        vertical-align: top;\n",
              "    }\n",
              "\n",
              "    .dataframe thead th {\n",
              "        text-align: right;\n",
              "    }\n",
              "</style>\n",
              "<table border=\"1\" class=\"dataframe\">\n",
              "  <thead>\n",
              "    <tr style=\"text-align: right;\">\n",
              "      <th></th>\n",
              "      <th>0</th>\n",
              "      <th>1</th>\n",
              "      <th>2</th>\n",
              "      <th>3</th>\n",
              "      <th>4</th>\n",
              "    </tr>\n",
              "  </thead>\n",
              "  <tbody>\n",
              "    <tr>\n",
              "      <th>39</th>\n",
              "      <td>50</td>\n",
              "      <td>38</td>\n",
              "      <td>53</td>\n",
              "      <td>28</td>\n",
              "      <td>37</td>\n",
              "    </tr>\n",
              "    <tr>\n",
              "      <th>State-gov</th>\n",
              "      <td>Self-emp-not-inc</td>\n",
              "      <td>Private</td>\n",
              "      <td>Private</td>\n",
              "      <td>Private</td>\n",
              "      <td>Private</td>\n",
              "    </tr>\n",
              "    <tr>\n",
              "      <th>77516</th>\n",
              "      <td>83311</td>\n",
              "      <td>215646</td>\n",
              "      <td>234721</td>\n",
              "      <td>338409</td>\n",
              "      <td>284582</td>\n",
              "    </tr>\n",
              "    <tr>\n",
              "      <th>Bachelors</th>\n",
              "      <td>Bachelors</td>\n",
              "      <td>HS-grad</td>\n",
              "      <td>11th</td>\n",
              "      <td>Bachelors</td>\n",
              "      <td>Masters</td>\n",
              "    </tr>\n",
              "    <tr>\n",
              "      <th>13</th>\n",
              "      <td>13</td>\n",
              "      <td>9</td>\n",
              "      <td>7</td>\n",
              "      <td>13</td>\n",
              "      <td>14</td>\n",
              "    </tr>\n",
              "    <tr>\n",
              "      <th>Never-married</th>\n",
              "      <td>Married-civ-spouse</td>\n",
              "      <td>Divorced</td>\n",
              "      <td>Married-civ-spouse</td>\n",
              "      <td>Married-civ-spouse</td>\n",
              "      <td>Married-civ-spouse</td>\n",
              "    </tr>\n",
              "    <tr>\n",
              "      <th>Adm-clerical</th>\n",
              "      <td>Exec-managerial</td>\n",
              "      <td>Handlers-cleaners</td>\n",
              "      <td>Handlers-cleaners</td>\n",
              "      <td>Prof-specialty</td>\n",
              "      <td>Exec-managerial</td>\n",
              "    </tr>\n",
              "    <tr>\n",
              "      <th>Not-in-family</th>\n",
              "      <td>Husband</td>\n",
              "      <td>Not-in-family</td>\n",
              "      <td>Husband</td>\n",
              "      <td>Wife</td>\n",
              "      <td>Wife</td>\n",
              "    </tr>\n",
              "    <tr>\n",
              "      <th>White</th>\n",
              "      <td>White</td>\n",
              "      <td>White</td>\n",
              "      <td>Black</td>\n",
              "      <td>Black</td>\n",
              "      <td>White</td>\n",
              "    </tr>\n",
              "    <tr>\n",
              "      <th>Male</th>\n",
              "      <td>Male</td>\n",
              "      <td>Male</td>\n",
              "      <td>Male</td>\n",
              "      <td>Female</td>\n",
              "      <td>Female</td>\n",
              "    </tr>\n",
              "    <tr>\n",
              "      <th>2174</th>\n",
              "      <td>0</td>\n",
              "      <td>0</td>\n",
              "      <td>0</td>\n",
              "      <td>0</td>\n",
              "      <td>0</td>\n",
              "    </tr>\n",
              "    <tr>\n",
              "      <th>0</th>\n",
              "      <td>0</td>\n",
              "      <td>0</td>\n",
              "      <td>0</td>\n",
              "      <td>0</td>\n",
              "      <td>0</td>\n",
              "    </tr>\n",
              "    <tr>\n",
              "      <th>40</th>\n",
              "      <td>13</td>\n",
              "      <td>40</td>\n",
              "      <td>40</td>\n",
              "      <td>40</td>\n",
              "      <td>40</td>\n",
              "    </tr>\n",
              "    <tr>\n",
              "      <th>United-States</th>\n",
              "      <td>United-States</td>\n",
              "      <td>United-States</td>\n",
              "      <td>United-States</td>\n",
              "      <td>Cuba</td>\n",
              "      <td>United-States</td>\n",
              "    </tr>\n",
              "    <tr>\n",
              "      <th>&lt;=50K</th>\n",
              "      <td>&lt;=50K</td>\n",
              "      <td>&lt;=50K</td>\n",
              "      <td>&lt;=50K</td>\n",
              "      <td>&lt;=50K</td>\n",
              "      <td>&lt;=50K</td>\n",
              "    </tr>\n",
              "  </tbody>\n",
              "</table>\n",
              "</div>"
            ],
            "text/plain": [
              "                                  0  ...                    4\n",
              "39                               50  ...                   37\n",
              " State-gov         Self-emp-not-inc  ...              Private\n",
              " 77516                        83311  ...               284582\n",
              " Bachelors                Bachelors  ...              Masters\n",
              " 13                              13  ...                   14\n",
              " Never-married   Married-civ-spouse  ...   Married-civ-spouse\n",
              " Adm-clerical       Exec-managerial  ...      Exec-managerial\n",
              " Not-in-family              Husband  ...                 Wife\n",
              " White                        White  ...                White\n",
              " Male                          Male  ...               Female\n",
              " 2174                             0  ...                    0\n",
              " 0                                0  ...                    0\n",
              " 40                              13  ...                   40\n",
              " United-States        United-States  ...        United-States\n",
              " <=50K                        <=50K  ...                <=50K\n",
              "\n",
              "[15 rows x 5 columns]"
            ]
          },
          "metadata": {},
          "execution_count": 7
        }
      ]
    },
    {
      "cell_type": "code",
      "metadata": {
        "colab": {
          "base_uri": "https://localhost:8080/"
        },
        "id": "sq_Kk9F-KDn7",
        "outputId": "7d96b9e9-89af-48c6-c81b-975aec3c0c27"
      },
      "source": [
        "# visualizando as colunas presente \n",
        "df.columns"
      ],
      "execution_count": 8,
      "outputs": [
        {
          "output_type": "execute_result",
          "data": {
            "text/plain": [
              "Index(['39', ' State-gov', ' 77516', ' Bachelors', ' 13', ' Never-married',\n",
              "       ' Adm-clerical', ' Not-in-family', ' White', ' Male', ' 2174', ' 0',\n",
              "       ' 40', ' United-States', ' <=50K'],\n",
              "      dtype='object')"
            ]
          },
          "metadata": {},
          "execution_count": 8
        }
      ]
    },
    {
      "cell_type": "markdown",
      "metadata": {
        "id": "Xtv40kGtKHWS"
      },
      "source": [
        "**O arquivo não possui o `header` (nome das colunas).**\n"
      ]
    },
    {
      "cell_type": "code",
      "metadata": {
        "colab": {
          "base_uri": "https://localhost:8080/"
        },
        "id": "U_JpqMKjKh_g",
        "outputId": "1f8e31bd-b4de-4413-dd4b-fca17842b95f"
      },
      "source": [
        "# visualizando os índices - ínicio e fim\n",
        "df.index"
      ],
      "execution_count": 9,
      "outputs": [
        {
          "output_type": "execute_result",
          "data": {
            "text/plain": [
              "RangeIndex(start=0, stop=32560, step=1)"
            ]
          },
          "metadata": {},
          "execution_count": 9
        }
      ]
    },
    {
      "cell_type": "markdown",
      "metadata": {
        "id": "NaBxFKDRKrwC"
      },
      "source": [
        "Devido à falta dos nomes das colunas, irei instanciar manualmente para poder prosseguir na atividade prática.\n",
        "\n",
        "_Os nomes peguei do próprio site_ `UCI Machine Learning Repository`.\n"
      ]
    },
    {
      "cell_type": "code",
      "metadata": {
        "id": "ZLnlekBYsMtS"
      },
      "source": [
        "# instanciando manualmente os nomes das colunas\n",
        "headers = ['age', 'workclass', 'fnlwgt', 'education', 'education-num',\n",
        "           'matital-status', 'occupation', 'relationship', 'race', 'sex',\n",
        "           'capital-gain', 'capital-loss', 'hours-per-week', 'native-country',\n",
        "           'income']"
      ],
      "execution_count": 10,
      "outputs": []
    },
    {
      "cell_type": "code",
      "metadata": {
        "colab": {
          "base_uri": "https://localhost:8080/"
        },
        "id": "ofsbhQ20ttP-",
        "outputId": "04df7dad-3746-4175-a33e-56af8aee8cc0"
      },
      "source": [
        "# verificando se os nomes instanciados e igual a quantidade de colunas no df\n",
        "print(len(headers))\n",
        "print(len(df.columns))"
      ],
      "execution_count": 11,
      "outputs": [
        {
          "output_type": "stream",
          "name": "stdout",
          "text": [
            "15\n",
            "15\n"
          ]
        }
      ]
    },
    {
      "cell_type": "code",
      "metadata": {
        "colab": {
          "base_uri": "https://localhost:8080/"
        },
        "id": "aVyK9cZoMLAa",
        "outputId": "73db410d-17a2-4d8e-f053-3ce1b0295277"
      },
      "source": [
        "# realizando comparação boleana entre os objetos\n",
        "print([len(headers)] == [len(df.columns)])"
      ],
      "execution_count": 12,
      "outputs": [
        {
          "output_type": "stream",
          "name": "stdout",
          "text": [
            "True\n"
          ]
        }
      ]
    },
    {
      "cell_type": "code",
      "metadata": {
        "id": "0MUGFeTMJ594"
      },
      "source": [
        "# carregando novamente a base de dados e agregando seus headers\n",
        "df = pd.read_csv('/content/adult.data', names=headers)"
      ],
      "execution_count": 13,
      "outputs": []
    },
    {
      "cell_type": "code",
      "metadata": {
        "colab": {
          "base_uri": "https://localhost:8080/",
          "height": 348
        },
        "id": "pB6-TlnAtbiF",
        "outputId": "76e39552-37e7-40b0-e694-a8829c4a979a"
      },
      "source": [
        "# visualizando as 5 primeiras linhas da base de dados\n",
        "df.head()"
      ],
      "execution_count": 14,
      "outputs": [
        {
          "output_type": "execute_result",
          "data": {
            "text/html": [
              "<div>\n",
              "<style scoped>\n",
              "    .dataframe tbody tr th:only-of-type {\n",
              "        vertical-align: middle;\n",
              "    }\n",
              "\n",
              "    .dataframe tbody tr th {\n",
              "        vertical-align: top;\n",
              "    }\n",
              "\n",
              "    .dataframe thead th {\n",
              "        text-align: right;\n",
              "    }\n",
              "</style>\n",
              "<table border=\"1\" class=\"dataframe\">\n",
              "  <thead>\n",
              "    <tr style=\"text-align: right;\">\n",
              "      <th></th>\n",
              "      <th>age</th>\n",
              "      <th>workclass</th>\n",
              "      <th>fnlwgt</th>\n",
              "      <th>education</th>\n",
              "      <th>education-num</th>\n",
              "      <th>matital-status</th>\n",
              "      <th>occupation</th>\n",
              "      <th>relationship</th>\n",
              "      <th>race</th>\n",
              "      <th>sex</th>\n",
              "      <th>capital-gain</th>\n",
              "      <th>capital-loss</th>\n",
              "      <th>hours-per-week</th>\n",
              "      <th>native-country</th>\n",
              "      <th>income</th>\n",
              "    </tr>\n",
              "  </thead>\n",
              "  <tbody>\n",
              "    <tr>\n",
              "      <th>0</th>\n",
              "      <td>39</td>\n",
              "      <td>State-gov</td>\n",
              "      <td>77516</td>\n",
              "      <td>Bachelors</td>\n",
              "      <td>13</td>\n",
              "      <td>Never-married</td>\n",
              "      <td>Adm-clerical</td>\n",
              "      <td>Not-in-family</td>\n",
              "      <td>White</td>\n",
              "      <td>Male</td>\n",
              "      <td>2174</td>\n",
              "      <td>0</td>\n",
              "      <td>40</td>\n",
              "      <td>United-States</td>\n",
              "      <td>&lt;=50K</td>\n",
              "    </tr>\n",
              "    <tr>\n",
              "      <th>1</th>\n",
              "      <td>50</td>\n",
              "      <td>Self-emp-not-inc</td>\n",
              "      <td>83311</td>\n",
              "      <td>Bachelors</td>\n",
              "      <td>13</td>\n",
              "      <td>Married-civ-spouse</td>\n",
              "      <td>Exec-managerial</td>\n",
              "      <td>Husband</td>\n",
              "      <td>White</td>\n",
              "      <td>Male</td>\n",
              "      <td>0</td>\n",
              "      <td>0</td>\n",
              "      <td>13</td>\n",
              "      <td>United-States</td>\n",
              "      <td>&lt;=50K</td>\n",
              "    </tr>\n",
              "    <tr>\n",
              "      <th>2</th>\n",
              "      <td>38</td>\n",
              "      <td>Private</td>\n",
              "      <td>215646</td>\n",
              "      <td>HS-grad</td>\n",
              "      <td>9</td>\n",
              "      <td>Divorced</td>\n",
              "      <td>Handlers-cleaners</td>\n",
              "      <td>Not-in-family</td>\n",
              "      <td>White</td>\n",
              "      <td>Male</td>\n",
              "      <td>0</td>\n",
              "      <td>0</td>\n",
              "      <td>40</td>\n",
              "      <td>United-States</td>\n",
              "      <td>&lt;=50K</td>\n",
              "    </tr>\n",
              "    <tr>\n",
              "      <th>3</th>\n",
              "      <td>53</td>\n",
              "      <td>Private</td>\n",
              "      <td>234721</td>\n",
              "      <td>11th</td>\n",
              "      <td>7</td>\n",
              "      <td>Married-civ-spouse</td>\n",
              "      <td>Handlers-cleaners</td>\n",
              "      <td>Husband</td>\n",
              "      <td>Black</td>\n",
              "      <td>Male</td>\n",
              "      <td>0</td>\n",
              "      <td>0</td>\n",
              "      <td>40</td>\n",
              "      <td>United-States</td>\n",
              "      <td>&lt;=50K</td>\n",
              "    </tr>\n",
              "    <tr>\n",
              "      <th>4</th>\n",
              "      <td>28</td>\n",
              "      <td>Private</td>\n",
              "      <td>338409</td>\n",
              "      <td>Bachelors</td>\n",
              "      <td>13</td>\n",
              "      <td>Married-civ-spouse</td>\n",
              "      <td>Prof-specialty</td>\n",
              "      <td>Wife</td>\n",
              "      <td>Black</td>\n",
              "      <td>Female</td>\n",
              "      <td>0</td>\n",
              "      <td>0</td>\n",
              "      <td>40</td>\n",
              "      <td>Cuba</td>\n",
              "      <td>&lt;=50K</td>\n",
              "    </tr>\n",
              "  </tbody>\n",
              "</table>\n",
              "</div>"
            ],
            "text/plain": [
              "   age          workclass  fnlwgt  ... hours-per-week  native-country  income\n",
              "0   39          State-gov   77516  ...             40   United-States   <=50K\n",
              "1   50   Self-emp-not-inc   83311  ...             13   United-States   <=50K\n",
              "2   38            Private  215646  ...             40   United-States   <=50K\n",
              "3   53            Private  234721  ...             40   United-States   <=50K\n",
              "4   28            Private  338409  ...             40            Cuba   <=50K\n",
              "\n",
              "[5 rows x 15 columns]"
            ]
          },
          "metadata": {},
          "execution_count": 14
        }
      ]
    },
    {
      "cell_type": "code",
      "metadata": {
        "colab": {
          "base_uri": "https://localhost:8080/"
        },
        "id": "C_oOG4qzq62M",
        "outputId": "1e8a0447-8974-49d0-f864-e3f7e4cf760e"
      },
      "source": [
        "# nomes das colunas\n",
        "df.columns"
      ],
      "execution_count": 15,
      "outputs": [
        {
          "output_type": "execute_result",
          "data": {
            "text/plain": [
              "Index(['age', 'workclass', 'fnlwgt', 'education', 'education-num',\n",
              "       'matital-status', 'occupation', 'relationship', 'race', 'sex',\n",
              "       'capital-gain', 'capital-loss', 'hours-per-week', 'native-country',\n",
              "       'income'],\n",
              "      dtype='object')"
            ]
          },
          "metadata": {},
          "execution_count": 15
        }
      ]
    },
    {
      "cell_type": "code",
      "metadata": {
        "colab": {
          "base_uri": "https://localhost:8080/"
        },
        "id": "aAX4VndStye-",
        "outputId": "bbafe552-1d95-43fc-bf9a-21accec6bf38"
      },
      "source": [
        "# índices\n",
        "df.index"
      ],
      "execution_count": 16,
      "outputs": [
        {
          "output_type": "execute_result",
          "data": {
            "text/plain": [
              "RangeIndex(start=0, stop=32561, step=1)"
            ]
          },
          "metadata": {},
          "execution_count": 16
        }
      ]
    },
    {
      "cell_type": "code",
      "metadata": {
        "colab": {
          "base_uri": "https://localhost:8080/"
        },
        "id": "RYgY3DNKq3_E",
        "outputId": "16882147-c93a-470b-a3ec-e08031cb0544"
      },
      "source": [
        "# verificando a dimensão da base de dados - linhas e colunas\n",
        "df.shape"
      ],
      "execution_count": 17,
      "outputs": [
        {
          "output_type": "execute_result",
          "data": {
            "text/plain": [
              "(32561, 15)"
            ]
          },
          "metadata": {},
          "execution_count": 17
        }
      ]
    },
    {
      "cell_type": "code",
      "metadata": {
        "colab": {
          "base_uri": "https://localhost:8080/"
        },
        "id": "iIyTHOKfPEu7",
        "outputId": "80664c9d-70d2-4ebf-e85b-ee15780f6146"
      },
      "source": [
        "# informações gerais\n",
        "df.info()"
      ],
      "execution_count": 18,
      "outputs": [
        {
          "output_type": "stream",
          "name": "stdout",
          "text": [
            "<class 'pandas.core.frame.DataFrame'>\n",
            "RangeIndex: 32561 entries, 0 to 32560\n",
            "Data columns (total 15 columns):\n",
            " #   Column          Non-Null Count  Dtype \n",
            "---  ------          --------------  ----- \n",
            " 0   age             32561 non-null  int64 \n",
            " 1   workclass       32561 non-null  object\n",
            " 2   fnlwgt          32561 non-null  int64 \n",
            " 3   education       32561 non-null  object\n",
            " 4   education-num   32561 non-null  int64 \n",
            " 5   matital-status  32561 non-null  object\n",
            " 6   occupation      32561 non-null  object\n",
            " 7   relationship    32561 non-null  object\n",
            " 8   race            32561 non-null  object\n",
            " 9   sex             32561 non-null  object\n",
            " 10  capital-gain    32561 non-null  int64 \n",
            " 11  capital-loss    32561 non-null  int64 \n",
            " 12  hours-per-week  32561 non-null  int64 \n",
            " 13  native-country  32561 non-null  object\n",
            " 14  income          32561 non-null  object\n",
            "dtypes: int64(6), object(9)\n",
            "memory usage: 3.7+ MB\n"
          ]
        }
      ]
    },
    {
      "cell_type": "markdown",
      "metadata": {
        "id": "5BFRar-TpsA2"
      },
      "source": [
        "## **2° Etapa: Limpeza, Preparação e Manipulação dos dados.**"
      ]
    },
    {
      "cell_type": "code",
      "metadata": {
        "colab": {
          "base_uri": "https://localhost:8080/",
          "height": 652
        },
        "id": "vpM8QqTQPj72",
        "outputId": "4f5521ad-b418-49d1-9688-fc5ceb330515"
      },
      "source": [
        "# visualizando a base de dados\n",
        "df"
      ],
      "execution_count": 19,
      "outputs": [
        {
          "output_type": "execute_result",
          "data": {
            "text/html": [
              "<div>\n",
              "<style scoped>\n",
              "    .dataframe tbody tr th:only-of-type {\n",
              "        vertical-align: middle;\n",
              "    }\n",
              "\n",
              "    .dataframe tbody tr th {\n",
              "        vertical-align: top;\n",
              "    }\n",
              "\n",
              "    .dataframe thead th {\n",
              "        text-align: right;\n",
              "    }\n",
              "</style>\n",
              "<table border=\"1\" class=\"dataframe\">\n",
              "  <thead>\n",
              "    <tr style=\"text-align: right;\">\n",
              "      <th></th>\n",
              "      <th>age</th>\n",
              "      <th>workclass</th>\n",
              "      <th>fnlwgt</th>\n",
              "      <th>education</th>\n",
              "      <th>education-num</th>\n",
              "      <th>matital-status</th>\n",
              "      <th>occupation</th>\n",
              "      <th>relationship</th>\n",
              "      <th>race</th>\n",
              "      <th>sex</th>\n",
              "      <th>capital-gain</th>\n",
              "      <th>capital-loss</th>\n",
              "      <th>hours-per-week</th>\n",
              "      <th>native-country</th>\n",
              "      <th>income</th>\n",
              "    </tr>\n",
              "  </thead>\n",
              "  <tbody>\n",
              "    <tr>\n",
              "      <th>0</th>\n",
              "      <td>39</td>\n",
              "      <td>State-gov</td>\n",
              "      <td>77516</td>\n",
              "      <td>Bachelors</td>\n",
              "      <td>13</td>\n",
              "      <td>Never-married</td>\n",
              "      <td>Adm-clerical</td>\n",
              "      <td>Not-in-family</td>\n",
              "      <td>White</td>\n",
              "      <td>Male</td>\n",
              "      <td>2174</td>\n",
              "      <td>0</td>\n",
              "      <td>40</td>\n",
              "      <td>United-States</td>\n",
              "      <td>&lt;=50K</td>\n",
              "    </tr>\n",
              "    <tr>\n",
              "      <th>1</th>\n",
              "      <td>50</td>\n",
              "      <td>Self-emp-not-inc</td>\n",
              "      <td>83311</td>\n",
              "      <td>Bachelors</td>\n",
              "      <td>13</td>\n",
              "      <td>Married-civ-spouse</td>\n",
              "      <td>Exec-managerial</td>\n",
              "      <td>Husband</td>\n",
              "      <td>White</td>\n",
              "      <td>Male</td>\n",
              "      <td>0</td>\n",
              "      <td>0</td>\n",
              "      <td>13</td>\n",
              "      <td>United-States</td>\n",
              "      <td>&lt;=50K</td>\n",
              "    </tr>\n",
              "    <tr>\n",
              "      <th>2</th>\n",
              "      <td>38</td>\n",
              "      <td>Private</td>\n",
              "      <td>215646</td>\n",
              "      <td>HS-grad</td>\n",
              "      <td>9</td>\n",
              "      <td>Divorced</td>\n",
              "      <td>Handlers-cleaners</td>\n",
              "      <td>Not-in-family</td>\n",
              "      <td>White</td>\n",
              "      <td>Male</td>\n",
              "      <td>0</td>\n",
              "      <td>0</td>\n",
              "      <td>40</td>\n",
              "      <td>United-States</td>\n",
              "      <td>&lt;=50K</td>\n",
              "    </tr>\n",
              "    <tr>\n",
              "      <th>3</th>\n",
              "      <td>53</td>\n",
              "      <td>Private</td>\n",
              "      <td>234721</td>\n",
              "      <td>11th</td>\n",
              "      <td>7</td>\n",
              "      <td>Married-civ-spouse</td>\n",
              "      <td>Handlers-cleaners</td>\n",
              "      <td>Husband</td>\n",
              "      <td>Black</td>\n",
              "      <td>Male</td>\n",
              "      <td>0</td>\n",
              "      <td>0</td>\n",
              "      <td>40</td>\n",
              "      <td>United-States</td>\n",
              "      <td>&lt;=50K</td>\n",
              "    </tr>\n",
              "    <tr>\n",
              "      <th>4</th>\n",
              "      <td>28</td>\n",
              "      <td>Private</td>\n",
              "      <td>338409</td>\n",
              "      <td>Bachelors</td>\n",
              "      <td>13</td>\n",
              "      <td>Married-civ-spouse</td>\n",
              "      <td>Prof-specialty</td>\n",
              "      <td>Wife</td>\n",
              "      <td>Black</td>\n",
              "      <td>Female</td>\n",
              "      <td>0</td>\n",
              "      <td>0</td>\n",
              "      <td>40</td>\n",
              "      <td>Cuba</td>\n",
              "      <td>&lt;=50K</td>\n",
              "    </tr>\n",
              "    <tr>\n",
              "      <th>...</th>\n",
              "      <td>...</td>\n",
              "      <td>...</td>\n",
              "      <td>...</td>\n",
              "      <td>...</td>\n",
              "      <td>...</td>\n",
              "      <td>...</td>\n",
              "      <td>...</td>\n",
              "      <td>...</td>\n",
              "      <td>...</td>\n",
              "      <td>...</td>\n",
              "      <td>...</td>\n",
              "      <td>...</td>\n",
              "      <td>...</td>\n",
              "      <td>...</td>\n",
              "      <td>...</td>\n",
              "    </tr>\n",
              "    <tr>\n",
              "      <th>32556</th>\n",
              "      <td>27</td>\n",
              "      <td>Private</td>\n",
              "      <td>257302</td>\n",
              "      <td>Assoc-acdm</td>\n",
              "      <td>12</td>\n",
              "      <td>Married-civ-spouse</td>\n",
              "      <td>Tech-support</td>\n",
              "      <td>Wife</td>\n",
              "      <td>White</td>\n",
              "      <td>Female</td>\n",
              "      <td>0</td>\n",
              "      <td>0</td>\n",
              "      <td>38</td>\n",
              "      <td>United-States</td>\n",
              "      <td>&lt;=50K</td>\n",
              "    </tr>\n",
              "    <tr>\n",
              "      <th>32557</th>\n",
              "      <td>40</td>\n",
              "      <td>Private</td>\n",
              "      <td>154374</td>\n",
              "      <td>HS-grad</td>\n",
              "      <td>9</td>\n",
              "      <td>Married-civ-spouse</td>\n",
              "      <td>Machine-op-inspct</td>\n",
              "      <td>Husband</td>\n",
              "      <td>White</td>\n",
              "      <td>Male</td>\n",
              "      <td>0</td>\n",
              "      <td>0</td>\n",
              "      <td>40</td>\n",
              "      <td>United-States</td>\n",
              "      <td>&gt;50K</td>\n",
              "    </tr>\n",
              "    <tr>\n",
              "      <th>32558</th>\n",
              "      <td>58</td>\n",
              "      <td>Private</td>\n",
              "      <td>151910</td>\n",
              "      <td>HS-grad</td>\n",
              "      <td>9</td>\n",
              "      <td>Widowed</td>\n",
              "      <td>Adm-clerical</td>\n",
              "      <td>Unmarried</td>\n",
              "      <td>White</td>\n",
              "      <td>Female</td>\n",
              "      <td>0</td>\n",
              "      <td>0</td>\n",
              "      <td>40</td>\n",
              "      <td>United-States</td>\n",
              "      <td>&lt;=50K</td>\n",
              "    </tr>\n",
              "    <tr>\n",
              "      <th>32559</th>\n",
              "      <td>22</td>\n",
              "      <td>Private</td>\n",
              "      <td>201490</td>\n",
              "      <td>HS-grad</td>\n",
              "      <td>9</td>\n",
              "      <td>Never-married</td>\n",
              "      <td>Adm-clerical</td>\n",
              "      <td>Own-child</td>\n",
              "      <td>White</td>\n",
              "      <td>Male</td>\n",
              "      <td>0</td>\n",
              "      <td>0</td>\n",
              "      <td>20</td>\n",
              "      <td>United-States</td>\n",
              "      <td>&lt;=50K</td>\n",
              "    </tr>\n",
              "    <tr>\n",
              "      <th>32560</th>\n",
              "      <td>52</td>\n",
              "      <td>Self-emp-inc</td>\n",
              "      <td>287927</td>\n",
              "      <td>HS-grad</td>\n",
              "      <td>9</td>\n",
              "      <td>Married-civ-spouse</td>\n",
              "      <td>Exec-managerial</td>\n",
              "      <td>Wife</td>\n",
              "      <td>White</td>\n",
              "      <td>Female</td>\n",
              "      <td>15024</td>\n",
              "      <td>0</td>\n",
              "      <td>40</td>\n",
              "      <td>United-States</td>\n",
              "      <td>&gt;50K</td>\n",
              "    </tr>\n",
              "  </tbody>\n",
              "</table>\n",
              "<p>32561 rows × 15 columns</p>\n",
              "</div>"
            ],
            "text/plain": [
              "       age          workclass  fnlwgt  ... hours-per-week  native-country  income\n",
              "0       39          State-gov   77516  ...             40   United-States   <=50K\n",
              "1       50   Self-emp-not-inc   83311  ...             13   United-States   <=50K\n",
              "2       38            Private  215646  ...             40   United-States   <=50K\n",
              "3       53            Private  234721  ...             40   United-States   <=50K\n",
              "4       28            Private  338409  ...             40            Cuba   <=50K\n",
              "...    ...                ...     ...  ...            ...             ...     ...\n",
              "32556   27            Private  257302  ...             38   United-States   <=50K\n",
              "32557   40            Private  154374  ...             40   United-States    >50K\n",
              "32558   58            Private  151910  ...             40   United-States   <=50K\n",
              "32559   22            Private  201490  ...             20   United-States   <=50K\n",
              "32560   52       Self-emp-inc  287927  ...             40   United-States    >50K\n",
              "\n",
              "[32561 rows x 15 columns]"
            ]
          },
          "metadata": {},
          "execution_count": 19
        }
      ]
    },
    {
      "cell_type": "code",
      "metadata": {
        "colab": {
          "base_uri": "https://localhost:8080/",
          "height": 363
        },
        "id": "VSBvUu5QPMHy",
        "outputId": "37db973a-eeb9-4ac8-a335-465d0120907f"
      },
      "source": [
        "# visualizando somente os atributos \"education\" e \"education-num\"\n",
        "df[['education', 'education-num']].head(10)"
      ],
      "execution_count": 20,
      "outputs": [
        {
          "output_type": "execute_result",
          "data": {
            "text/html": [
              "<div>\n",
              "<style scoped>\n",
              "    .dataframe tbody tr th:only-of-type {\n",
              "        vertical-align: middle;\n",
              "    }\n",
              "\n",
              "    .dataframe tbody tr th {\n",
              "        vertical-align: top;\n",
              "    }\n",
              "\n",
              "    .dataframe thead th {\n",
              "        text-align: right;\n",
              "    }\n",
              "</style>\n",
              "<table border=\"1\" class=\"dataframe\">\n",
              "  <thead>\n",
              "    <tr style=\"text-align: right;\">\n",
              "      <th></th>\n",
              "      <th>education</th>\n",
              "      <th>education-num</th>\n",
              "    </tr>\n",
              "  </thead>\n",
              "  <tbody>\n",
              "    <tr>\n",
              "      <th>0</th>\n",
              "      <td>Bachelors</td>\n",
              "      <td>13</td>\n",
              "    </tr>\n",
              "    <tr>\n",
              "      <th>1</th>\n",
              "      <td>Bachelors</td>\n",
              "      <td>13</td>\n",
              "    </tr>\n",
              "    <tr>\n",
              "      <th>2</th>\n",
              "      <td>HS-grad</td>\n",
              "      <td>9</td>\n",
              "    </tr>\n",
              "    <tr>\n",
              "      <th>3</th>\n",
              "      <td>11th</td>\n",
              "      <td>7</td>\n",
              "    </tr>\n",
              "    <tr>\n",
              "      <th>4</th>\n",
              "      <td>Bachelors</td>\n",
              "      <td>13</td>\n",
              "    </tr>\n",
              "    <tr>\n",
              "      <th>5</th>\n",
              "      <td>Masters</td>\n",
              "      <td>14</td>\n",
              "    </tr>\n",
              "    <tr>\n",
              "      <th>6</th>\n",
              "      <td>9th</td>\n",
              "      <td>5</td>\n",
              "    </tr>\n",
              "    <tr>\n",
              "      <th>7</th>\n",
              "      <td>HS-grad</td>\n",
              "      <td>9</td>\n",
              "    </tr>\n",
              "    <tr>\n",
              "      <th>8</th>\n",
              "      <td>Masters</td>\n",
              "      <td>14</td>\n",
              "    </tr>\n",
              "    <tr>\n",
              "      <th>9</th>\n",
              "      <td>Bachelors</td>\n",
              "      <td>13</td>\n",
              "    </tr>\n",
              "  </tbody>\n",
              "</table>\n",
              "</div>"
            ],
            "text/plain": [
              "    education  education-num\n",
              "0   Bachelors             13\n",
              "1   Bachelors             13\n",
              "2     HS-grad              9\n",
              "3        11th              7\n",
              "4   Bachelors             13\n",
              "5     Masters             14\n",
              "6         9th              5\n",
              "7     HS-grad              9\n",
              "8     Masters             14\n",
              "9   Bachelors             13"
            ]
          },
          "metadata": {},
          "execution_count": 20
        }
      ]
    },
    {
      "cell_type": "code",
      "metadata": {
        "colab": {
          "base_uri": "https://localhost:8080/"
        },
        "id": "wrV-bZPqRL8a",
        "outputId": "c3164bf2-1e6c-4cc5-a88a-50379ab40909"
      },
      "source": [
        "# contabilizando as instâncias únicas no atributo \"education\"\n",
        "df['education'].value_counts()"
      ],
      "execution_count": 21,
      "outputs": [
        {
          "output_type": "execute_result",
          "data": {
            "text/plain": [
              " HS-grad         10501\n",
              " Some-college     7291\n",
              " Bachelors        5355\n",
              " Masters          1723\n",
              " Assoc-voc        1382\n",
              " 11th             1175\n",
              " Assoc-acdm       1067\n",
              " 10th              933\n",
              " 7th-8th           646\n",
              " Prof-school       576\n",
              " 9th               514\n",
              " 12th              433\n",
              " Doctorate         413\n",
              " 5th-6th           333\n",
              " 1st-4th           168\n",
              " Preschool          51\n",
              "Name: education, dtype: int64"
            ]
          },
          "metadata": {},
          "execution_count": 21
        }
      ]
    },
    {
      "cell_type": "code",
      "metadata": {
        "colab": {
          "base_uri": "https://localhost:8080/"
        },
        "id": "8ThSvactRWtz",
        "outputId": "1fe9d440-74d5-49aa-a43f-c88135f128ae"
      },
      "source": [
        "# contabilizando as instâncias únicas no atributo \"education-num\"\n",
        "df['education-num'].value_counts()"
      ],
      "execution_count": 22,
      "outputs": [
        {
          "output_type": "execute_result",
          "data": {
            "text/plain": [
              "9     10501\n",
              "10     7291\n",
              "13     5355\n",
              "14     1723\n",
              "11     1382\n",
              "7      1175\n",
              "12     1067\n",
              "6       933\n",
              "4       646\n",
              "15      576\n",
              "5       514\n",
              "8       433\n",
              "16      413\n",
              "3       333\n",
              "2       168\n",
              "1        51\n",
              "Name: education-num, dtype: int64"
            ]
          },
          "metadata": {},
          "execution_count": 22
        }
      ]
    },
    {
      "cell_type": "markdown",
      "metadata": {
        "id": "jWdctTLSqB_9"
      },
      "source": [
        "> Irei remover o atributo `education`, já que o mesmo traz o título de educação, portanto uma informação categórica e, o atributo `education-num` possui informações sobre a quantidade de anos de estudo. Portanto, informações redundante.\n",
        "\n",
        "Como os modelos de machine learning trabalham melhor com dados numéricos, a prioridade é manter a coluna que tem o tipo de dados _int_ ou _float_."
      ]
    },
    {
      "cell_type": "code",
      "metadata": {
        "id": "Bh6PJ60Jofgw"
      },
      "source": [
        "# removendo o atributo \"education\"\n",
        "df.drop(['education'], axis =1, inplace=True)"
      ],
      "execution_count": 23,
      "outputs": []
    },
    {
      "cell_type": "code",
      "metadata": {
        "id": "11gYDkZtofdy"
      },
      "source": [
        "# separando as variáves explicativas (X) e da resposta (y)\n",
        "X = df.drop('income', axis=1, inplace=False)\n",
        "y = df.income"
      ],
      "execution_count": 24,
      "outputs": []
    },
    {
      "cell_type": "code",
      "metadata": {
        "colab": {
          "base_uri": "https://localhost:8080/",
          "height": 293
        },
        "id": "vMLmJ0d1ofbY",
        "outputId": "fb5df0b8-05d8-4066-8fa6-5ae9d47ec2dd"
      },
      "source": [
        "# visualizando o objeto \"X\"\n",
        "X.head()"
      ],
      "execution_count": 25,
      "outputs": [
        {
          "output_type": "execute_result",
          "data": {
            "text/html": [
              "<div>\n",
              "<style scoped>\n",
              "    .dataframe tbody tr th:only-of-type {\n",
              "        vertical-align: middle;\n",
              "    }\n",
              "\n",
              "    .dataframe tbody tr th {\n",
              "        vertical-align: top;\n",
              "    }\n",
              "\n",
              "    .dataframe thead th {\n",
              "        text-align: right;\n",
              "    }\n",
              "</style>\n",
              "<table border=\"1\" class=\"dataframe\">\n",
              "  <thead>\n",
              "    <tr style=\"text-align: right;\">\n",
              "      <th></th>\n",
              "      <th>age</th>\n",
              "      <th>workclass</th>\n",
              "      <th>fnlwgt</th>\n",
              "      <th>education-num</th>\n",
              "      <th>matital-status</th>\n",
              "      <th>occupation</th>\n",
              "      <th>relationship</th>\n",
              "      <th>race</th>\n",
              "      <th>sex</th>\n",
              "      <th>capital-gain</th>\n",
              "      <th>capital-loss</th>\n",
              "      <th>hours-per-week</th>\n",
              "      <th>native-country</th>\n",
              "    </tr>\n",
              "  </thead>\n",
              "  <tbody>\n",
              "    <tr>\n",
              "      <th>0</th>\n",
              "      <td>39</td>\n",
              "      <td>State-gov</td>\n",
              "      <td>77516</td>\n",
              "      <td>13</td>\n",
              "      <td>Never-married</td>\n",
              "      <td>Adm-clerical</td>\n",
              "      <td>Not-in-family</td>\n",
              "      <td>White</td>\n",
              "      <td>Male</td>\n",
              "      <td>2174</td>\n",
              "      <td>0</td>\n",
              "      <td>40</td>\n",
              "      <td>United-States</td>\n",
              "    </tr>\n",
              "    <tr>\n",
              "      <th>1</th>\n",
              "      <td>50</td>\n",
              "      <td>Self-emp-not-inc</td>\n",
              "      <td>83311</td>\n",
              "      <td>13</td>\n",
              "      <td>Married-civ-spouse</td>\n",
              "      <td>Exec-managerial</td>\n",
              "      <td>Husband</td>\n",
              "      <td>White</td>\n",
              "      <td>Male</td>\n",
              "      <td>0</td>\n",
              "      <td>0</td>\n",
              "      <td>13</td>\n",
              "      <td>United-States</td>\n",
              "    </tr>\n",
              "    <tr>\n",
              "      <th>2</th>\n",
              "      <td>38</td>\n",
              "      <td>Private</td>\n",
              "      <td>215646</td>\n",
              "      <td>9</td>\n",
              "      <td>Divorced</td>\n",
              "      <td>Handlers-cleaners</td>\n",
              "      <td>Not-in-family</td>\n",
              "      <td>White</td>\n",
              "      <td>Male</td>\n",
              "      <td>0</td>\n",
              "      <td>0</td>\n",
              "      <td>40</td>\n",
              "      <td>United-States</td>\n",
              "    </tr>\n",
              "    <tr>\n",
              "      <th>3</th>\n",
              "      <td>53</td>\n",
              "      <td>Private</td>\n",
              "      <td>234721</td>\n",
              "      <td>7</td>\n",
              "      <td>Married-civ-spouse</td>\n",
              "      <td>Handlers-cleaners</td>\n",
              "      <td>Husband</td>\n",
              "      <td>Black</td>\n",
              "      <td>Male</td>\n",
              "      <td>0</td>\n",
              "      <td>0</td>\n",
              "      <td>40</td>\n",
              "      <td>United-States</td>\n",
              "    </tr>\n",
              "    <tr>\n",
              "      <th>4</th>\n",
              "      <td>28</td>\n",
              "      <td>Private</td>\n",
              "      <td>338409</td>\n",
              "      <td>13</td>\n",
              "      <td>Married-civ-spouse</td>\n",
              "      <td>Prof-specialty</td>\n",
              "      <td>Wife</td>\n",
              "      <td>Black</td>\n",
              "      <td>Female</td>\n",
              "      <td>0</td>\n",
              "      <td>0</td>\n",
              "      <td>40</td>\n",
              "      <td>Cuba</td>\n",
              "    </tr>\n",
              "  </tbody>\n",
              "</table>\n",
              "</div>"
            ],
            "text/plain": [
              "   age          workclass  fnlwgt  ...  capital-loss hours-per-week  native-country\n",
              "0   39          State-gov   77516  ...             0             40   United-States\n",
              "1   50   Self-emp-not-inc   83311  ...             0             13   United-States\n",
              "2   38            Private  215646  ...             0             40   United-States\n",
              "3   53            Private  234721  ...             0             40   United-States\n",
              "4   28            Private  338409  ...             0             40            Cuba\n",
              "\n",
              "[5 rows x 13 columns]"
            ]
          },
          "metadata": {},
          "execution_count": 25
        }
      ]
    },
    {
      "cell_type": "code",
      "metadata": {
        "colab": {
          "base_uri": "https://localhost:8080/"
        },
        "id": "Dqe5qMAuofY4",
        "outputId": "fef03c8e-14ce-4431-d704-581a25613682"
      },
      "source": [
        "# visualizando o objeto \"y\"\n",
        "y.head()"
      ],
      "execution_count": 26,
      "outputs": [
        {
          "output_type": "execute_result",
          "data": {
            "text/plain": [
              "0     <=50K\n",
              "1     <=50K\n",
              "2     <=50K\n",
              "3     <=50K\n",
              "4     <=50K\n",
              "Name: income, dtype: object"
            ]
          },
          "metadata": {},
          "execution_count": 26
        }
      ]
    },
    {
      "cell_type": "markdown",
      "metadata": {
        "id": "8LviUMuBuhe0"
      },
      "source": [
        "No X temos as variáveis que representam as características das pessoas, e na variável y temos a classe que queremos prever, nesse caso o `income` (renda)."
      ]
    },
    {
      "cell_type": "code",
      "metadata": {
        "id": "u7PBUYF9ofWJ"
      },
      "source": [
        "# separando os dados em treino e teste\n",
        "X_train, X_test, y_train, y_test = train_test_split(X, y,\n",
        "                                                    test_size=0.3,\n",
        "                                                    random_state=42)"
      ],
      "execution_count": 27,
      "outputs": []
    },
    {
      "cell_type": "markdown",
      "metadata": {
        "id": "TVx4PRo6vJLj"
      },
      "source": [
        "Vamos separar as colunas onde os dados são categóricos, pois essas colunas precisam de um tratamento especial."
      ]
    },
    {
      "cell_type": "code",
      "metadata": {
        "colab": {
          "base_uri": "https://localhost:8080/",
          "height": 424
        },
        "id": "s71QwvFrofS4",
        "outputId": "71ff23ff-d47b-48d7-f97d-9cd973d88612"
      },
      "source": [
        "# selecionar as colunas não numéricas\n",
        "df.select_dtypes(include='object')"
      ],
      "execution_count": 28,
      "outputs": [
        {
          "output_type": "execute_result",
          "data": {
            "text/html": [
              "<div>\n",
              "<style scoped>\n",
              "    .dataframe tbody tr th:only-of-type {\n",
              "        vertical-align: middle;\n",
              "    }\n",
              "\n",
              "    .dataframe tbody tr th {\n",
              "        vertical-align: top;\n",
              "    }\n",
              "\n",
              "    .dataframe thead th {\n",
              "        text-align: right;\n",
              "    }\n",
              "</style>\n",
              "<table border=\"1\" class=\"dataframe\">\n",
              "  <thead>\n",
              "    <tr style=\"text-align: right;\">\n",
              "      <th></th>\n",
              "      <th>workclass</th>\n",
              "      <th>matital-status</th>\n",
              "      <th>occupation</th>\n",
              "      <th>relationship</th>\n",
              "      <th>race</th>\n",
              "      <th>sex</th>\n",
              "      <th>native-country</th>\n",
              "      <th>income</th>\n",
              "    </tr>\n",
              "  </thead>\n",
              "  <tbody>\n",
              "    <tr>\n",
              "      <th>0</th>\n",
              "      <td>State-gov</td>\n",
              "      <td>Never-married</td>\n",
              "      <td>Adm-clerical</td>\n",
              "      <td>Not-in-family</td>\n",
              "      <td>White</td>\n",
              "      <td>Male</td>\n",
              "      <td>United-States</td>\n",
              "      <td>&lt;=50K</td>\n",
              "    </tr>\n",
              "    <tr>\n",
              "      <th>1</th>\n",
              "      <td>Self-emp-not-inc</td>\n",
              "      <td>Married-civ-spouse</td>\n",
              "      <td>Exec-managerial</td>\n",
              "      <td>Husband</td>\n",
              "      <td>White</td>\n",
              "      <td>Male</td>\n",
              "      <td>United-States</td>\n",
              "      <td>&lt;=50K</td>\n",
              "    </tr>\n",
              "    <tr>\n",
              "      <th>2</th>\n",
              "      <td>Private</td>\n",
              "      <td>Divorced</td>\n",
              "      <td>Handlers-cleaners</td>\n",
              "      <td>Not-in-family</td>\n",
              "      <td>White</td>\n",
              "      <td>Male</td>\n",
              "      <td>United-States</td>\n",
              "      <td>&lt;=50K</td>\n",
              "    </tr>\n",
              "    <tr>\n",
              "      <th>3</th>\n",
              "      <td>Private</td>\n",
              "      <td>Married-civ-spouse</td>\n",
              "      <td>Handlers-cleaners</td>\n",
              "      <td>Husband</td>\n",
              "      <td>Black</td>\n",
              "      <td>Male</td>\n",
              "      <td>United-States</td>\n",
              "      <td>&lt;=50K</td>\n",
              "    </tr>\n",
              "    <tr>\n",
              "      <th>4</th>\n",
              "      <td>Private</td>\n",
              "      <td>Married-civ-spouse</td>\n",
              "      <td>Prof-specialty</td>\n",
              "      <td>Wife</td>\n",
              "      <td>Black</td>\n",
              "      <td>Female</td>\n",
              "      <td>Cuba</td>\n",
              "      <td>&lt;=50K</td>\n",
              "    </tr>\n",
              "    <tr>\n",
              "      <th>...</th>\n",
              "      <td>...</td>\n",
              "      <td>...</td>\n",
              "      <td>...</td>\n",
              "      <td>...</td>\n",
              "      <td>...</td>\n",
              "      <td>...</td>\n",
              "      <td>...</td>\n",
              "      <td>...</td>\n",
              "    </tr>\n",
              "    <tr>\n",
              "      <th>32556</th>\n",
              "      <td>Private</td>\n",
              "      <td>Married-civ-spouse</td>\n",
              "      <td>Tech-support</td>\n",
              "      <td>Wife</td>\n",
              "      <td>White</td>\n",
              "      <td>Female</td>\n",
              "      <td>United-States</td>\n",
              "      <td>&lt;=50K</td>\n",
              "    </tr>\n",
              "    <tr>\n",
              "      <th>32557</th>\n",
              "      <td>Private</td>\n",
              "      <td>Married-civ-spouse</td>\n",
              "      <td>Machine-op-inspct</td>\n",
              "      <td>Husband</td>\n",
              "      <td>White</td>\n",
              "      <td>Male</td>\n",
              "      <td>United-States</td>\n",
              "      <td>&gt;50K</td>\n",
              "    </tr>\n",
              "    <tr>\n",
              "      <th>32558</th>\n",
              "      <td>Private</td>\n",
              "      <td>Widowed</td>\n",
              "      <td>Adm-clerical</td>\n",
              "      <td>Unmarried</td>\n",
              "      <td>White</td>\n",
              "      <td>Female</td>\n",
              "      <td>United-States</td>\n",
              "      <td>&lt;=50K</td>\n",
              "    </tr>\n",
              "    <tr>\n",
              "      <th>32559</th>\n",
              "      <td>Private</td>\n",
              "      <td>Never-married</td>\n",
              "      <td>Adm-clerical</td>\n",
              "      <td>Own-child</td>\n",
              "      <td>White</td>\n",
              "      <td>Male</td>\n",
              "      <td>United-States</td>\n",
              "      <td>&lt;=50K</td>\n",
              "    </tr>\n",
              "    <tr>\n",
              "      <th>32560</th>\n",
              "      <td>Self-emp-inc</td>\n",
              "      <td>Married-civ-spouse</td>\n",
              "      <td>Exec-managerial</td>\n",
              "      <td>Wife</td>\n",
              "      <td>White</td>\n",
              "      <td>Female</td>\n",
              "      <td>United-States</td>\n",
              "      <td>&gt;50K</td>\n",
              "    </tr>\n",
              "  </tbody>\n",
              "</table>\n",
              "<p>32561 rows × 8 columns</p>\n",
              "</div>"
            ],
            "text/plain": [
              "               workclass       matital-status  ...  native-country  income\n",
              "0              State-gov        Never-married  ...   United-States   <=50K\n",
              "1       Self-emp-not-inc   Married-civ-spouse  ...   United-States   <=50K\n",
              "2                Private             Divorced  ...   United-States   <=50K\n",
              "3                Private   Married-civ-spouse  ...   United-States   <=50K\n",
              "4                Private   Married-civ-spouse  ...            Cuba   <=50K\n",
              "...                  ...                  ...  ...             ...     ...\n",
              "32556            Private   Married-civ-spouse  ...   United-States   <=50K\n",
              "32557            Private   Married-civ-spouse  ...   United-States    >50K\n",
              "32558            Private              Widowed  ...   United-States   <=50K\n",
              "32559            Private        Never-married  ...   United-States   <=50K\n",
              "32560       Self-emp-inc   Married-civ-spouse  ...   United-States    >50K\n",
              "\n",
              "[32561 rows x 8 columns]"
            ]
          },
          "metadata": {},
          "execution_count": 28
        }
      ]
    },
    {
      "cell_type": "markdown",
      "metadata": {
        "id": "A-5WtjBNvxNM"
      },
      "source": [
        "Como já é de conhecimento, os modelos de machine learning não trabalham com dados categóricos, então precisamos transformar esses dados para entregar para o algoritmo. \n",
        "\n",
        "É o que faremos a seguir!"
      ]
    },
    {
      "cell_type": "markdown",
      "metadata": {
        "id": "NMsT2ZYYv0yx"
      },
      "source": [
        "## **Aplicando One Hot Encoder**"
      ]
    },
    {
      "cell_type": "markdown",
      "metadata": {
        "id": "v1agC-_iTkkD"
      },
      "source": [
        "- Documentação:\n",
        " - [OneHotEncoder](https://scikit-learn.org/stable/modules/generated/sklearn.preprocessing.OneHotEncoder.html?highlight=one%20hot#sklearn.preprocessing.OneHotEncoder)"
      ]
    },
    {
      "cell_type": "markdown",
      "metadata": {
        "id": "hCpkXLJiv3ep"
      },
      "source": [
        "> É uma técnica que vai gerar vetores binários para cada categoria.\n",
        "\n",
        "Exemplo:"
      ]
    },
    {
      "cell_type": "markdown",
      "metadata": {
        "id": "U1y-mTfcv5Ij"
      },
      "source": [
        "![image.png](data:image/png;base64,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)"
      ]
    },
    {
      "cell_type": "markdown",
      "metadata": {
        "id": "uY8RU92Dv7PK"
      },
      "source": [
        "Depois de aplicar o `one hot encoder` teremos um novo DataFrame onde cada valor único da tabela **Color** vira uma coluna, se temos uma cor red essa coluna será representada com o valor 1 e as demais com o valor 0 e assim sucessivamente para todas as instâncias presentes no atributo."
      ]
    },
    {
      "cell_type": "code",
      "metadata": {
        "id": "Wo_uAMppvH41"
      },
      "source": [
        "# instanciando o \"one hot encoder\"\n",
        "ohe = OneHotEncoder(use_cat_names=True)"
      ],
      "execution_count": 29,
      "outputs": []
    },
    {
      "cell_type": "markdown",
      "metadata": {
        "id": "rdOHAOgbwRtm"
      },
      "source": [
        "> Passando o argumento `use_cat_names=True`, ele colocará o nome de cada categoria no início de cada atributo."
      ]
    },
    {
      "cell_type": "code",
      "metadata": {
        "id": "Oi9PcBbVvH04"
      },
      "source": [
        "# aplicando-o e realizando a transformação da base de treino\n",
        "X_train = ohe.fit_transform(X_train)"
      ],
      "execution_count": 30,
      "outputs": []
    },
    {
      "cell_type": "code",
      "metadata": {
        "colab": {
          "base_uri": "https://localhost:8080/",
          "height": 325
        },
        "id": "_S5bChBpvHyN",
        "outputId": "e3cf59fe-621c-4367-803f-a02071b2a7f3"
      },
      "source": [
        "# visualizando o resultado do one hot encoder\n",
        "X_train.head()"
      ],
      "execution_count": 31,
      "outputs": [
        {
          "output_type": "execute_result",
          "data": {
            "text/html": [
              "<div>\n",
              "<style scoped>\n",
              "    .dataframe tbody tr th:only-of-type {\n",
              "        vertical-align: middle;\n",
              "    }\n",
              "\n",
              "    .dataframe tbody tr th {\n",
              "        vertical-align: top;\n",
              "    }\n",
              "\n",
              "    .dataframe thead th {\n",
              "        text-align: right;\n",
              "    }\n",
              "</style>\n",
              "<table border=\"1\" class=\"dataframe\">\n",
              "  <thead>\n",
              "    <tr style=\"text-align: right;\">\n",
              "      <th></th>\n",
              "      <th>age</th>\n",
              "      <th>workclass_ Self-emp-not-inc</th>\n",
              "      <th>workclass_ State-gov</th>\n",
              "      <th>workclass_ Local-gov</th>\n",
              "      <th>workclass_ Private</th>\n",
              "      <th>workclass_ Federal-gov</th>\n",
              "      <th>workclass_ ?</th>\n",
              "      <th>workclass_ Self-emp-inc</th>\n",
              "      <th>workclass_ Without-pay</th>\n",
              "      <th>workclass_ Never-worked</th>\n",
              "      <th>fnlwgt</th>\n",
              "      <th>education-num</th>\n",
              "      <th>matital-status_ Married-civ-spouse</th>\n",
              "      <th>matital-status_ Divorced</th>\n",
              "      <th>matital-status_ Never-married</th>\n",
              "      <th>matital-status_ Separated</th>\n",
              "      <th>matital-status_ Widowed</th>\n",
              "      <th>matital-status_ Married-spouse-absent</th>\n",
              "      <th>matital-status_ Married-AF-spouse</th>\n",
              "      <th>occupation_ Farming-fishing</th>\n",
              "      <th>occupation_ Craft-repair</th>\n",
              "      <th>occupation_ Prof-specialty</th>\n",
              "      <th>occupation_ Exec-managerial</th>\n",
              "      <th>occupation_ Priv-house-serv</th>\n",
              "      <th>occupation_ Sales</th>\n",
              "      <th>occupation_ Transport-moving</th>\n",
              "      <th>occupation_ Other-service</th>\n",
              "      <th>occupation_ Adm-clerical</th>\n",
              "      <th>occupation_ Machine-op-inspct</th>\n",
              "      <th>occupation_ Handlers-cleaners</th>\n",
              "      <th>occupation_ ?</th>\n",
              "      <th>occupation_ Tech-support</th>\n",
              "      <th>occupation_ Protective-serv</th>\n",
              "      <th>occupation_ Armed-Forces</th>\n",
              "      <th>relationship_ Wife</th>\n",
              "      <th>relationship_ Husband</th>\n",
              "      <th>relationship_ Not-in-family</th>\n",
              "      <th>relationship_ Own-child</th>\n",
              "      <th>relationship_ Unmarried</th>\n",
              "      <th>relationship_ Other-relative</th>\n",
              "      <th>...</th>\n",
              "      <th>native-country_ Jamaica</th>\n",
              "      <th>native-country_ Germany</th>\n",
              "      <th>native-country_ Mexico</th>\n",
              "      <th>native-country_ Cuba</th>\n",
              "      <th>native-country_ Philippines</th>\n",
              "      <th>native-country_ Haiti</th>\n",
              "      <th>native-country_ India</th>\n",
              "      <th>native-country_ France</th>\n",
              "      <th>native-country_ Puerto-Rico</th>\n",
              "      <th>native-country_ El-Salvador</th>\n",
              "      <th>native-country_ ?</th>\n",
              "      <th>native-country_ Portugal</th>\n",
              "      <th>native-country_ Taiwan</th>\n",
              "      <th>native-country_ Columbia</th>\n",
              "      <th>native-country_ Peru</th>\n",
              "      <th>native-country_ Thailand</th>\n",
              "      <th>native-country_ England</th>\n",
              "      <th>native-country_ Italy</th>\n",
              "      <th>native-country_ South</th>\n",
              "      <th>native-country_ Dominican-Republic</th>\n",
              "      <th>native-country_ Scotland</th>\n",
              "      <th>native-country_ Poland</th>\n",
              "      <th>native-country_ China</th>\n",
              "      <th>native-country_ Yugoslavia</th>\n",
              "      <th>native-country_ Nicaragua</th>\n",
              "      <th>native-country_ Vietnam</th>\n",
              "      <th>native-country_ Ecuador</th>\n",
              "      <th>native-country_ Canada</th>\n",
              "      <th>native-country_ Ireland</th>\n",
              "      <th>native-country_ Cambodia</th>\n",
              "      <th>native-country_ Outlying-US(Guam-USVI-etc)</th>\n",
              "      <th>native-country_ Japan</th>\n",
              "      <th>native-country_ Hong</th>\n",
              "      <th>native-country_ Trinadad&amp;Tobago</th>\n",
              "      <th>native-country_ Hungary</th>\n",
              "      <th>native-country_ Honduras</th>\n",
              "      <th>native-country_ Iran</th>\n",
              "      <th>native-country_ Laos</th>\n",
              "      <th>native-country_ Holand-Netherlands</th>\n",
              "      <th>native-country_ Greece</th>\n",
              "    </tr>\n",
              "  </thead>\n",
              "  <tbody>\n",
              "    <tr>\n",
              "      <th>19749</th>\n",
              "      <td>34</td>\n",
              "      <td>1</td>\n",
              "      <td>0</td>\n",
              "      <td>0</td>\n",
              "      <td>0</td>\n",
              "      <td>0</td>\n",
              "      <td>0</td>\n",
              "      <td>0</td>\n",
              "      <td>0</td>\n",
              "      <td>0</td>\n",
              "      <td>56460</td>\n",
              "      <td>9</td>\n",
              "      <td>1</td>\n",
              "      <td>0</td>\n",
              "      <td>0</td>\n",
              "      <td>0</td>\n",
              "      <td>0</td>\n",
              "      <td>0</td>\n",
              "      <td>0</td>\n",
              "      <td>1</td>\n",
              "      <td>0</td>\n",
              "      <td>0</td>\n",
              "      <td>0</td>\n",
              "      <td>0</td>\n",
              "      <td>0</td>\n",
              "      <td>0</td>\n",
              "      <td>0</td>\n",
              "      <td>0</td>\n",
              "      <td>0</td>\n",
              "      <td>0</td>\n",
              "      <td>0</td>\n",
              "      <td>0</td>\n",
              "      <td>0</td>\n",
              "      <td>0</td>\n",
              "      <td>1</td>\n",
              "      <td>0</td>\n",
              "      <td>0</td>\n",
              "      <td>0</td>\n",
              "      <td>0</td>\n",
              "      <td>0</td>\n",
              "      <td>...</td>\n",
              "      <td>0</td>\n",
              "      <td>0</td>\n",
              "      <td>0</td>\n",
              "      <td>0</td>\n",
              "      <td>0</td>\n",
              "      <td>0</td>\n",
              "      <td>0</td>\n",
              "      <td>0</td>\n",
              "      <td>0</td>\n",
              "      <td>0</td>\n",
              "      <td>0</td>\n",
              "      <td>0</td>\n",
              "      <td>0</td>\n",
              "      <td>0</td>\n",
              "      <td>0</td>\n",
              "      <td>0</td>\n",
              "      <td>0</td>\n",
              "      <td>0</td>\n",
              "      <td>0</td>\n",
              "      <td>0</td>\n",
              "      <td>0</td>\n",
              "      <td>0</td>\n",
              "      <td>0</td>\n",
              "      <td>0</td>\n",
              "      <td>0</td>\n",
              "      <td>0</td>\n",
              "      <td>0</td>\n",
              "      <td>0</td>\n",
              "      <td>0</td>\n",
              "      <td>0</td>\n",
              "      <td>0</td>\n",
              "      <td>0</td>\n",
              "      <td>0</td>\n",
              "      <td>0</td>\n",
              "      <td>0</td>\n",
              "      <td>0</td>\n",
              "      <td>0</td>\n",
              "      <td>0</td>\n",
              "      <td>0</td>\n",
              "      <td>0</td>\n",
              "    </tr>\n",
              "    <tr>\n",
              "      <th>1216</th>\n",
              "      <td>48</td>\n",
              "      <td>1</td>\n",
              "      <td>0</td>\n",
              "      <td>0</td>\n",
              "      <td>0</td>\n",
              "      <td>0</td>\n",
              "      <td>0</td>\n",
              "      <td>0</td>\n",
              "      <td>0</td>\n",
              "      <td>0</td>\n",
              "      <td>243631</td>\n",
              "      <td>10</td>\n",
              "      <td>1</td>\n",
              "      <td>0</td>\n",
              "      <td>0</td>\n",
              "      <td>0</td>\n",
              "      <td>0</td>\n",
              "      <td>0</td>\n",
              "      <td>0</td>\n",
              "      <td>0</td>\n",
              "      <td>1</td>\n",
              "      <td>0</td>\n",
              "      <td>0</td>\n",
              "      <td>0</td>\n",
              "      <td>0</td>\n",
              "      <td>0</td>\n",
              "      <td>0</td>\n",
              "      <td>0</td>\n",
              "      <td>0</td>\n",
              "      <td>0</td>\n",
              "      <td>0</td>\n",
              "      <td>0</td>\n",
              "      <td>0</td>\n",
              "      <td>0</td>\n",
              "      <td>0</td>\n",
              "      <td>1</td>\n",
              "      <td>0</td>\n",
              "      <td>0</td>\n",
              "      <td>0</td>\n",
              "      <td>0</td>\n",
              "      <td>...</td>\n",
              "      <td>0</td>\n",
              "      <td>0</td>\n",
              "      <td>0</td>\n",
              "      <td>0</td>\n",
              "      <td>0</td>\n",
              "      <td>0</td>\n",
              "      <td>0</td>\n",
              "      <td>0</td>\n",
              "      <td>0</td>\n",
              "      <td>0</td>\n",
              "      <td>0</td>\n",
              "      <td>0</td>\n",
              "      <td>0</td>\n",
              "      <td>0</td>\n",
              "      <td>0</td>\n",
              "      <td>0</td>\n",
              "      <td>0</td>\n",
              "      <td>0</td>\n",
              "      <td>0</td>\n",
              "      <td>0</td>\n",
              "      <td>0</td>\n",
              "      <td>0</td>\n",
              "      <td>0</td>\n",
              "      <td>0</td>\n",
              "      <td>0</td>\n",
              "      <td>0</td>\n",
              "      <td>0</td>\n",
              "      <td>0</td>\n",
              "      <td>0</td>\n",
              "      <td>0</td>\n",
              "      <td>0</td>\n",
              "      <td>0</td>\n",
              "      <td>0</td>\n",
              "      <td>0</td>\n",
              "      <td>0</td>\n",
              "      <td>0</td>\n",
              "      <td>0</td>\n",
              "      <td>0</td>\n",
              "      <td>0</td>\n",
              "      <td>0</td>\n",
              "    </tr>\n",
              "    <tr>\n",
              "      <th>27962</th>\n",
              "      <td>23</td>\n",
              "      <td>0</td>\n",
              "      <td>1</td>\n",
              "      <td>0</td>\n",
              "      <td>0</td>\n",
              "      <td>0</td>\n",
              "      <td>0</td>\n",
              "      <td>0</td>\n",
              "      <td>0</td>\n",
              "      <td>0</td>\n",
              "      <td>56402</td>\n",
              "      <td>10</td>\n",
              "      <td>1</td>\n",
              "      <td>0</td>\n",
              "      <td>0</td>\n",
              "      <td>0</td>\n",
              "      <td>0</td>\n",
              "      <td>0</td>\n",
              "      <td>0</td>\n",
              "      <td>0</td>\n",
              "      <td>0</td>\n",
              "      <td>1</td>\n",
              "      <td>0</td>\n",
              "      <td>0</td>\n",
              "      <td>0</td>\n",
              "      <td>0</td>\n",
              "      <td>0</td>\n",
              "      <td>0</td>\n",
              "      <td>0</td>\n",
              "      <td>0</td>\n",
              "      <td>0</td>\n",
              "      <td>0</td>\n",
              "      <td>0</td>\n",
              "      <td>0</td>\n",
              "      <td>0</td>\n",
              "      <td>1</td>\n",
              "      <td>0</td>\n",
              "      <td>0</td>\n",
              "      <td>0</td>\n",
              "      <td>0</td>\n",
              "      <td>...</td>\n",
              "      <td>0</td>\n",
              "      <td>0</td>\n",
              "      <td>0</td>\n",
              "      <td>0</td>\n",
              "      <td>0</td>\n",
              "      <td>0</td>\n",
              "      <td>0</td>\n",
              "      <td>0</td>\n",
              "      <td>0</td>\n",
              "      <td>0</td>\n",
              "      <td>0</td>\n",
              "      <td>0</td>\n",
              "      <td>0</td>\n",
              "      <td>0</td>\n",
              "      <td>0</td>\n",
              "      <td>0</td>\n",
              "      <td>0</td>\n",
              "      <td>0</td>\n",
              "      <td>0</td>\n",
              "      <td>0</td>\n",
              "      <td>0</td>\n",
              "      <td>0</td>\n",
              "      <td>0</td>\n",
              "      <td>0</td>\n",
              "      <td>0</td>\n",
              "      <td>0</td>\n",
              "      <td>0</td>\n",
              "      <td>0</td>\n",
              "      <td>0</td>\n",
              "      <td>0</td>\n",
              "      <td>0</td>\n",
              "      <td>0</td>\n",
              "      <td>0</td>\n",
              "      <td>0</td>\n",
              "      <td>0</td>\n",
              "      <td>0</td>\n",
              "      <td>0</td>\n",
              "      <td>0</td>\n",
              "      <td>0</td>\n",
              "      <td>0</td>\n",
              "    </tr>\n",
              "    <tr>\n",
              "      <th>23077</th>\n",
              "      <td>56</td>\n",
              "      <td>0</td>\n",
              "      <td>0</td>\n",
              "      <td>1</td>\n",
              "      <td>0</td>\n",
              "      <td>0</td>\n",
              "      <td>0</td>\n",
              "      <td>0</td>\n",
              "      <td>0</td>\n",
              "      <td>0</td>\n",
              "      <td>255406</td>\n",
              "      <td>9</td>\n",
              "      <td>0</td>\n",
              "      <td>1</td>\n",
              "      <td>0</td>\n",
              "      <td>0</td>\n",
              "      <td>0</td>\n",
              "      <td>0</td>\n",
              "      <td>0</td>\n",
              "      <td>0</td>\n",
              "      <td>0</td>\n",
              "      <td>0</td>\n",
              "      <td>1</td>\n",
              "      <td>0</td>\n",
              "      <td>0</td>\n",
              "      <td>0</td>\n",
              "      <td>0</td>\n",
              "      <td>0</td>\n",
              "      <td>0</td>\n",
              "      <td>0</td>\n",
              "      <td>0</td>\n",
              "      <td>0</td>\n",
              "      <td>0</td>\n",
              "      <td>0</td>\n",
              "      <td>0</td>\n",
              "      <td>0</td>\n",
              "      <td>1</td>\n",
              "      <td>0</td>\n",
              "      <td>0</td>\n",
              "      <td>0</td>\n",
              "      <td>...</td>\n",
              "      <td>0</td>\n",
              "      <td>0</td>\n",
              "      <td>0</td>\n",
              "      <td>0</td>\n",
              "      <td>0</td>\n",
              "      <td>0</td>\n",
              "      <td>0</td>\n",
              "      <td>0</td>\n",
              "      <td>0</td>\n",
              "      <td>0</td>\n",
              "      <td>0</td>\n",
              "      <td>0</td>\n",
              "      <td>0</td>\n",
              "      <td>0</td>\n",
              "      <td>0</td>\n",
              "      <td>0</td>\n",
              "      <td>0</td>\n",
              "      <td>0</td>\n",
              "      <td>0</td>\n",
              "      <td>0</td>\n",
              "      <td>0</td>\n",
              "      <td>0</td>\n",
              "      <td>0</td>\n",
              "      <td>0</td>\n",
              "      <td>0</td>\n",
              "      <td>0</td>\n",
              "      <td>0</td>\n",
              "      <td>0</td>\n",
              "      <td>0</td>\n",
              "      <td>0</td>\n",
              "      <td>0</td>\n",
              "      <td>0</td>\n",
              "      <td>0</td>\n",
              "      <td>0</td>\n",
              "      <td>0</td>\n",
              "      <td>0</td>\n",
              "      <td>0</td>\n",
              "      <td>0</td>\n",
              "      <td>0</td>\n",
              "      <td>0</td>\n",
              "    </tr>\n",
              "    <tr>\n",
              "      <th>10180</th>\n",
              "      <td>17</td>\n",
              "      <td>0</td>\n",
              "      <td>0</td>\n",
              "      <td>0</td>\n",
              "      <td>1</td>\n",
              "      <td>0</td>\n",
              "      <td>0</td>\n",
              "      <td>0</td>\n",
              "      <td>0</td>\n",
              "      <td>0</td>\n",
              "      <td>297246</td>\n",
              "      <td>7</td>\n",
              "      <td>0</td>\n",
              "      <td>0</td>\n",
              "      <td>1</td>\n",
              "      <td>0</td>\n",
              "      <td>0</td>\n",
              "      <td>0</td>\n",
              "      <td>0</td>\n",
              "      <td>0</td>\n",
              "      <td>0</td>\n",
              "      <td>0</td>\n",
              "      <td>0</td>\n",
              "      <td>1</td>\n",
              "      <td>0</td>\n",
              "      <td>0</td>\n",
              "      <td>0</td>\n",
              "      <td>0</td>\n",
              "      <td>0</td>\n",
              "      <td>0</td>\n",
              "      <td>0</td>\n",
              "      <td>0</td>\n",
              "      <td>0</td>\n",
              "      <td>0</td>\n",
              "      <td>0</td>\n",
              "      <td>0</td>\n",
              "      <td>0</td>\n",
              "      <td>1</td>\n",
              "      <td>0</td>\n",
              "      <td>0</td>\n",
              "      <td>...</td>\n",
              "      <td>0</td>\n",
              "      <td>0</td>\n",
              "      <td>0</td>\n",
              "      <td>0</td>\n",
              "      <td>0</td>\n",
              "      <td>0</td>\n",
              "      <td>0</td>\n",
              "      <td>0</td>\n",
              "      <td>0</td>\n",
              "      <td>0</td>\n",
              "      <td>0</td>\n",
              "      <td>0</td>\n",
              "      <td>0</td>\n",
              "      <td>0</td>\n",
              "      <td>0</td>\n",
              "      <td>0</td>\n",
              "      <td>0</td>\n",
              "      <td>0</td>\n",
              "      <td>0</td>\n",
              "      <td>0</td>\n",
              "      <td>0</td>\n",
              "      <td>0</td>\n",
              "      <td>0</td>\n",
              "      <td>0</td>\n",
              "      <td>0</td>\n",
              "      <td>0</td>\n",
              "      <td>0</td>\n",
              "      <td>0</td>\n",
              "      <td>0</td>\n",
              "      <td>0</td>\n",
              "      <td>0</td>\n",
              "      <td>0</td>\n",
              "      <td>0</td>\n",
              "      <td>0</td>\n",
              "      <td>0</td>\n",
              "      <td>0</td>\n",
              "      <td>0</td>\n",
              "      <td>0</td>\n",
              "      <td>0</td>\n",
              "      <td>0</td>\n",
              "    </tr>\n",
              "  </tbody>\n",
              "</table>\n",
              "<p>5 rows × 92 columns</p>\n",
              "</div>"
            ],
            "text/plain": [
              "       age  ...  native-country_ Greece\n",
              "19749   34  ...                       0\n",
              "1216    48  ...                       0\n",
              "27962   23  ...                       0\n",
              "23077   56  ...                       0\n",
              "10180   17  ...                       0\n",
              "\n",
              "[5 rows x 92 columns]"
            ]
          },
          "metadata": {},
          "execution_count": 31
        }
      ]
    },
    {
      "cell_type": "markdown",
      "metadata": {
        "id": "qDcmlOj7wTd-"
      },
      "source": [
        "## **Aplicando o StandardScaler (pré-processador)**"
      ]
    },
    {
      "cell_type": "markdown",
      "metadata": {
        "id": "6kYho3dHUTLy"
      },
      "source": [
        "- Documentação:    \n",
        " - [StandardScaler](https://scikit-learn.org/stable/modules/generated/sklearn.preprocessing.StandardScaler.html?highlight=standardscaler#sklearn.preprocessing.StandardScaler)"
      ]
    },
    {
      "cell_type": "markdown",
      "metadata": {
        "id": "1kK4chzwwWh_"
      },
      "source": [
        "> O `StandardScaler` executa a tarefa de padronização dos dados, ou seja, transforma todas todas as instâncias presente nos atributos, para que elas fiquem em uma mesma escala. Cada coluna vai ter média igual a 0 e desvio padrão igual a 1."
      ]
    },
    {
      "cell_type": "code",
      "metadata": {
        "id": "ODI6XNm0vHvb"
      },
      "source": [
        "# instanciando o \"StandardScaler\"\n",
        "scaler = StandardScaler(copy=True,\n",
        "                        with_mean=True, with_std=True).fit(X_train)"
      ],
      "execution_count": 32,
      "outputs": []
    },
    {
      "cell_type": "code",
      "metadata": {
        "colab": {
          "base_uri": "https://localhost:8080/"
        },
        "id": "iks_HnmuwXjW",
        "outputId": "da03c6d0-26eb-4c56-af24-70d297bf7312"
      },
      "source": [
        "# StandardScaler(copy=True,\n",
        "#                with_mean=True, with_std=True)\n",
        "\n",
        "# visualizando o objeto\n",
        "scaler"
      ],
      "execution_count": 33,
      "outputs": [
        {
          "output_type": "execute_result",
          "data": {
            "text/plain": [
              "StandardScaler()"
            ]
          },
          "metadata": {},
          "execution_count": 33
        }
      ]
    },
    {
      "cell_type": "code",
      "metadata": {
        "id": "9kJK3-TbwX--"
      },
      "source": [
        "# aplicando o objeto e realizando a transformação dos dados de treino\n",
        "data_scaled = scaler.transform(X_train)"
      ],
      "execution_count": 34,
      "outputs": []
    },
    {
      "cell_type": "code",
      "metadata": {
        "colab": {
          "base_uri": "https://localhost:8080/"
        },
        "id": "JivZ4s7twX7B",
        "outputId": "ff329196-7e02-4a67-985d-7b8daf280348"
      },
      "source": [
        "# visualizando os valores escalonados da primeira linha\n",
        "data_scaled[:1]"
      ],
      "execution_count": 35,
      "outputs": [
        {
          "output_type": "execute_result",
          "data": {
            "text/plain": [
              "array([[-0.33477088,  3.41912608, -0.20497627, -0.26017496, -1.51605017,\n",
              "        -0.17389658, -0.24261449, -0.19035627, -0.02095097, -0.01752768,\n",
              "        -1.26129178, -0.42321894,  1.0796835 , -0.39602635, -0.69969697,\n",
              "        -0.17905142, -0.17576233, -0.11112098, -0.02811361,  5.61782876,\n",
              "        -0.3809153 , -0.38136826, -0.3785707 , -0.06900047, -0.3573552 ,\n",
              "        -0.2233543 , -0.33331708, -0.36287498, -0.25921243, -0.20980937,\n",
              "        -0.24332334, -0.17106433, -0.13801003, -0.01622712,  4.47936324,\n",
              "        -0.8291841 , -0.58120066, -0.42945396, -0.34394251, -0.17918188,\n",
              "         0.41684087, -0.09526813, -0.3292394 , -0.18420677, -0.09217144,\n",
              "         1.42324299, -1.42324299, -0.14634899,  5.13611784, -2.30985135,\n",
              "         0.34537657, -0.04545754, -0.04962917, -0.06469602, -0.14478945,\n",
              "        -0.05347929, -0.08056984, -0.03749634, -0.05510509, -0.03036817,\n",
              "        -0.06118283, -0.05784168, -0.13450225, -0.03507153, -0.03921719,\n",
              "        -0.04497036, -0.03108349, -0.02197404, -0.05347929, -0.04688897,\n",
              "        -0.05222713, -0.04735658, -0.01752768, -0.04347635, -0.04781966,\n",
              "        -0.02295164, -0.03178278, -0.04873273, -0.02963565, -0.06082053,\n",
              "        -0.02811361, -0.0247917 , -0.02388935, -0.04545754, -0.02197404,\n",
              "        -0.0247917 , -0.02095097, -0.01873829, -0.0356931 , -0.02295164,\n",
              "        -0.00662397, -0.03036817]])"
            ]
          },
          "metadata": {},
          "execution_count": 35
        }
      ]
    },
    {
      "cell_type": "code",
      "metadata": {
        "id": "lT9B8PGEwX4t",
        "colab": {
          "base_uri": "https://localhost:8080/"
        },
        "outputId": "0b8c5b1d-f1f7-41cb-9a29-1515c6a9c21e"
      },
      "source": [
        "# sobrescreendo os dados de treino com os dados escalonados\n",
        "X_train = scaler.transform(X_train)\n",
        "\n",
        "# visualizando \n",
        "X_train"
      ],
      "execution_count": 36,
      "outputs": [
        {
          "output_type": "execute_result",
          "data": {
            "text/plain": [
              "array([[-0.33477088,  3.41912608, -0.20497627, ..., -0.02295164,\n",
              "        -0.00662397, -0.03036817],\n",
              "       [ 0.69122318,  3.41912608, -0.20497627, ..., -0.02295164,\n",
              "        -0.00662397, -0.03036817],\n",
              "       [-1.14090907, -0.2924724 ,  4.87861358, ..., -0.02295164,\n",
              "        -0.00662397, -0.03036817],\n",
              "       ...,\n",
              "       [-1.50733552, -0.2924724 , -0.20497627, ..., -0.02295164,\n",
              "        -0.00662397, -0.03036817],\n",
              "       [ 0.83779376,  3.41912608, -0.20497627, ..., -0.02295164,\n",
              "        -0.00662397, -0.03036817],\n",
              "       [-0.33477088, -0.2924724 , -0.20497627, ..., -0.02295164,\n",
              "        -0.00662397, -0.03036817]])"
            ]
          },
          "metadata": {},
          "execution_count": 36
        }
      ]
    },
    {
      "cell_type": "markdown",
      "metadata": {
        "id": "oPI2rTgOxlLZ"
      },
      "source": [
        "## **3° Etapa: Treinando o modelo.**"
      ]
    },
    {
      "cell_type": "markdown",
      "metadata": {
        "id": "TytQmrgNxn_h"
      },
      "source": [
        "Como primeiro modelo iremos aplicar a árvore de decisão."
      ]
    },
    {
      "cell_type": "code",
      "metadata": {
        "id": "GI3ZB19bwX1t"
      },
      "source": [
        "# instanciando o modelo\n",
        "clf_tree = DecisionTreeClassifier()"
      ],
      "execution_count": 37,
      "outputs": []
    },
    {
      "cell_type": "code",
      "metadata": {
        "id": "o_kLFgCxORr4"
      },
      "source": [
        "# passando para o modelo os dados de treino \n",
        "clf_tree = clf_tree.fit(X_train, y_train)"
      ],
      "execution_count": 38,
      "outputs": []
    },
    {
      "cell_type": "markdown",
      "metadata": {
        "id": "1PYrK8CNOmbC"
      },
      "source": [
        "É necessário aplicar todos os métodos acima para os dados de teste, garantindo que eles estejam no mesmo formato do dados de treino, caso contrário o modelo não será capaz de prever novos resultados ou essa previsão será muito ruim."
      ]
    },
    {
      "cell_type": "markdown",
      "metadata": {
        "id": "wbNqMrgWOpCE"
      },
      "source": [
        "**Aplicando o OHE e o Standard Scaler (Pré-processador) nos dados de teste**"
      ]
    },
    {
      "cell_type": "code",
      "metadata": {
        "id": "zhhMAybuORpF"
      },
      "source": [
        "# aplicando as transformaçẽos na base de testes\n",
        "X_test = ohe.transform(X_test)                  # aplicando a transformação dos dados categóricos\n",
        "scaler_test = StandardScaler().fit(X_test)      # aplicando a normalização dos dados\n",
        "X_test = scaler_test.transform(X_test)          # instanciando o resultado na base de teste"
      ],
      "execution_count": 39,
      "outputs": []
    },
    {
      "cell_type": "code",
      "metadata": {
        "colab": {
          "base_uri": "https://localhost:8080/"
        },
        "id": "JK7a1pzSORm-",
        "outputId": "6e12213a-fb15-4afd-e36c-680893b5e250"
      },
      "source": [
        "# visualizando a base de teste após os tratamentos realizados\n",
        "X_test"
      ],
      "execution_count": 40,
      "outputs": [
        {
          "output_type": "execute_result",
          "data": {
            "text/plain": [
              "array([[-0.85215028, -0.28732843, -0.20090318, ..., -0.02479043,\n",
              "         0.        , -0.02862845],\n",
              "       [ 0.4686297 , -0.28732843,  4.97752203, ..., -0.02479043,\n",
              "         0.        , -0.02862845],\n",
              "       [-0.70539695, -0.28732843, -0.20090318, ..., -0.02479043,\n",
              "         0.        , -0.02862845],\n",
              "       ...,\n",
              "       [-1.07228028, -0.28732843, -0.20090318, ..., -0.02479043,\n",
              "         0.        , -0.02862845],\n",
              "       [ 1.27577303, -0.28732843, -0.20090318, ..., -0.02479043,\n",
              "         0.        , -0.02862845],\n",
              "       [ 0.39525304, -0.28732843, -0.20090318, ..., -0.02479043,\n",
              "         0.        , -0.02862845]])"
            ]
          },
          "metadata": {},
          "execution_count": 40
        }
      ]
    },
    {
      "cell_type": "code",
      "metadata": {
        "colab": {
          "base_uri": "https://localhost:8080/"
        },
        "id": "WGW4EBmIORlf",
        "outputId": "7e83784b-9020-4e38-a8f4-716c9ea86988"
      },
      "source": [
        "# realizando as previsões com o modelo\n",
        "clf_tree.predict(X_test)"
      ],
      "execution_count": 41,
      "outputs": [
        {
          "output_type": "execute_result",
          "data": {
            "text/plain": [
              "array([' <=50K', ' <=50K', ' <=50K', ..., ' <=50K', ' >50K', ' >50K'],\n",
              "      dtype=object)"
            ]
          },
          "metadata": {},
          "execution_count": 41
        }
      ]
    },
    {
      "cell_type": "markdown",
      "metadata": {
        "id": "RblSpBUvPbQ4"
      },
      "source": [
        "## **4°Etapa: Validação do modelo.**"
      ]
    },
    {
      "cell_type": "code",
      "metadata": {
        "colab": {
          "base_uri": "https://localhost:8080/"
        },
        "id": "OZu9wsh4ORis",
        "outputId": "52c45d94-4fef-4ab7-c218-8eb67f6a1335"
      },
      "source": [
        "# iremos utilizar como métrica de avaliação a acurácia\n",
        "acc = clf_tree.score(X_test, y_test)\n",
        "acc"
      ],
      "execution_count": 42,
      "outputs": [
        {
          "output_type": "execute_result",
          "data": {
            "text/plain": [
              "0.8021291841539564"
            ]
          },
          "metadata": {},
          "execution_count": 42
        }
      ]
    },
    {
      "cell_type": "markdown",
      "metadata": {
        "id": "OcCMUB-lPor-"
      },
      "source": [
        "## **5°Etapa: Nessa etapa é feita a melhora do modelo, geralmente você vai fazer melhorias nas etapas anteriores, repetindo esse ciclo quantas vezes for necessário.**"
      ]
    },
    {
      "cell_type": "markdown",
      "metadata": {
        "id": "w1qC_hozP5Hx"
      },
      "source": [
        "**Criando Pipelines**"
      ]
    },
    {
      "cell_type": "markdown",
      "metadata": {
        "id": "KqpaMauTP8py"
      },
      "source": [
        "- Encadeia etapas em sequencia.\n",
        "\n",
        "- Aplicação das etapas em dados de treino e teste"
      ]
    },
    {
      "cell_type": "code",
      "metadata": {
        "id": "1XMFet3hORg0"
      },
      "source": [
        "# 1 exemplo de pipeline\n",
        "pip_1 = Pipeline([\n",
        "                  ('ohe', OneHotEncoder()),\n",
        "                  ('scaler', StandardScaler()),\n",
        "                  ('clf', DecisionTreeClassifier())\n",
        "])"
      ],
      "execution_count": 43,
      "outputs": []
    },
    {
      "cell_type": "code",
      "metadata": {
        "colab": {
          "base_uri": "https://localhost:8080/"
        },
        "id": "MHGpRTeMORel",
        "outputId": "09339f53-a4e0-4e10-92d0-2383e4f17e1b"
      },
      "source": [
        "# visualizando as etapas do pipeline\n",
        "pip_1.steps"
      ],
      "execution_count": 44,
      "outputs": [
        {
          "output_type": "execute_result",
          "data": {
            "text/plain": [
              "[('ohe', OneHotEncoder()),\n",
              " ('scaler', StandardScaler()),\n",
              " ('clf', DecisionTreeClassifier())]"
            ]
          },
          "metadata": {},
          "execution_count": 44
        }
      ]
    },
    {
      "cell_type": "markdown",
      "metadata": {
        "id": "Sv8JxkIDQot-"
      },
      "source": [
        "> Perceba que nesse único processo executamos o one hot encoder, o standardscaler e instanciamos o modelo."
      ]
    },
    {
      "cell_type": "markdown",
      "metadata": {
        "id": "Pepcs871Qqyv"
      },
      "source": [
        "**Fluxo de processos com Pipeline**"
      ]
    },
    {
      "cell_type": "markdown",
      "metadata": {
        "id": "1W4pjmPMQs1Z"
      },
      "source": [
        "Agora vamos separar os dados de treino e teste e depois vamos aplicar o pipeline criado acima. Observe como tudo fica bem mais simples."
      ]
    },
    {
      "cell_type": "code",
      "metadata": {
        "id": "CO-TkWEFORco"
      },
      "source": [
        "# particionando os dados em treino e teste\n",
        "X_train, X_test, Y_train, y_test = train_test_split(X, y, \n",
        "                                                    test_size=0.30, random_state=42)"
      ],
      "execution_count": 45,
      "outputs": []
    },
    {
      "cell_type": "code",
      "metadata": {
        "colab": {
          "base_uri": "https://localhost:8080/"
        },
        "id": "C_eaa1ctORaP",
        "outputId": "d03835fb-0942-437a-dd01-3461b6f7330e"
      },
      "source": [
        "# treinando o 1 pipeline nos dados de treino\n",
        "pip_1.fit(X_train, y_train)"
      ],
      "execution_count": 46,
      "outputs": [
        {
          "output_type": "execute_result",
          "data": {
            "text/plain": [
              "Pipeline(steps=[('ohe',\n",
              "                 OneHotEncoder(cols=['workclass', 'matital-status',\n",
              "                                     'occupation', 'relationship', 'race',\n",
              "                                     'sex', 'native-country'])),\n",
              "                ('scaler', StandardScaler()),\n",
              "                ('clf', DecisionTreeClassifier())])"
            ]
          },
          "metadata": {},
          "execution_count": 46
        }
      ]
    },
    {
      "cell_type": "markdown",
      "metadata": {
        "id": "RvXDTEbRRKkf"
      },
      "source": [
        "**Validação do modelo**"
      ]
    },
    {
      "cell_type": "code",
      "metadata": {
        "colab": {
          "base_uri": "https://localhost:8080/"
        },
        "id": "td01Jy_dORYO",
        "outputId": "ada5fddc-430d-44b8-dcaf-9acb98228b5d"
      },
      "source": [
        "# avaliando a acurácia do modelo\n",
        "acc = pip_1.score(X_test, y_test)\n",
        "acc"
      ],
      "execution_count": 47,
      "outputs": [
        {
          "output_type": "execute_result",
          "data": {
            "text/plain": [
              "0.8108301770907974"
            ]
          },
          "metadata": {},
          "execution_count": 47
        }
      ]
    },
    {
      "cell_type": "markdown",
      "metadata": {
        "id": "LpcGfNXqRYRu"
      },
      "source": [
        "**Criando outros Pipelines**"
      ]
    },
    {
      "cell_type": "markdown",
      "metadata": {
        "id": "8T0JHnGFRf7z"
      },
      "source": [
        "- Crie pipelines com configurações distintas.\n",
        "\n",
        "- Valide vários modelos."
      ]
    },
    {
      "cell_type": "code",
      "metadata": {
        "id": "2OdlD22xORWX"
      },
      "source": [
        "# importando o módulo\n",
        "from sklearn.preprocessing import MinMaxScaler"
      ],
      "execution_count": 48,
      "outputs": []
    },
    {
      "cell_type": "code",
      "metadata": {
        "id": "Dnn_9ZWzORUG"
      },
      "source": [
        "# pipeline com o pré-processador \"MinMaxScaler\"\n",
        "pip_minmax =  Pipeline([\n",
        "                        ('ohe', OneHotEncoder()),\n",
        "                        ('min_max_scaler', MinMaxScaler()),\n",
        "                        ('clf', DecisionTreeClassifier())\n",
        "])"
      ],
      "execution_count": 49,
      "outputs": []
    },
    {
      "cell_type": "code",
      "metadata": {
        "id": "GWUCeDx9Rtfw"
      },
      "source": [
        "# pipeline com o pré-processador MinMaxScaler e passando como argumento \n",
        "# no classificador como \"max_depth = 3\" (profundidade máxima da árvore)\n",
        "pip_max_depth = Pipeline([\n",
        "                          ('ohe', OneHotEncoder()),\n",
        "                          ('min_max_scaler', MinMaxScaler()),\n",
        "                          ('clf', DecisionTreeClassifier(max_depth=3))\n",
        "])"
      ],
      "execution_count": 50,
      "outputs": []
    },
    {
      "cell_type": "code",
      "metadata": {
        "id": "8Pb9qhBvRtdE"
      },
      "source": [
        "# pipeline com o pré-processador StandardScaler e também passando\n",
        "# o classificador como \"max_depth = 3\" (profundidade máxima da árvore)\n",
        "pip_max_depth_std = Pipeline([\n",
        "                              ('ohe', OneHotEncoder()),\n",
        "                              ('standerScaler', StandardScaler()),\n",
        "                              ('clf', DecisionTreeClassifier(max_depth=3, class_weight='balanced'))\n",
        "])"
      ],
      "execution_count": 51,
      "outputs": []
    },
    {
      "cell_type": "markdown",
      "metadata": {
        "id": "x0UMMN31UEhs"
      },
      "source": [
        "**Validando modelos**"
      ]
    },
    {
      "cell_type": "code",
      "metadata": {
        "colab": {
          "base_uri": "https://localhost:8080/"
        },
        "id": "faO6Hy9ERta7",
        "outputId": "43440eb0-5e07-4a57-fec5-ff2631507710"
      },
      "source": [
        "# aplicando o pipeline com o pré-processador \"MinMaxScaler\"\n",
        "pip_minmax.fit(X_train, y_train)\n",
        "acuracia = pip_minmax.score(X_test, y_test)\n",
        "acuracia"
      ],
      "execution_count": 52,
      "outputs": [
        {
          "output_type": "execute_result",
          "data": {
            "text/plain": [
              "0.8122632818098066"
            ]
          },
          "metadata": {},
          "execution_count": 52
        }
      ]
    },
    {
      "cell_type": "code",
      "metadata": {
        "colab": {
          "base_uri": "https://localhost:8080/"
        },
        "id": "PzokUva9RtYt",
        "outputId": "cab73638-387b-42a4-a82a-a0baaf6bf3b1"
      },
      "source": [
        "# aplicando o pipeline com o pré-processador \"MinMaxScaler\"\n",
        "# e classificador com \"max_depth = 3\" (profundidade máxima da árvore)\n",
        "pip_max_depth.fit(X_train, y_train)\n",
        "acuracia = pip_max_depth.score(X_test, y_test)\n",
        "acuracia"
      ],
      "execution_count": 53,
      "outputs": [
        {
          "output_type": "execute_result",
          "data": {
            "text/plain": [
              "0.8445081379875116"
            ]
          },
          "metadata": {},
          "execution_count": 53
        }
      ]
    },
    {
      "cell_type": "code",
      "metadata": {
        "colab": {
          "base_uri": "https://localhost:8080/"
        },
        "id": "8E5KIqiRRtWX",
        "outputId": "4c5deb65-4fd3-47cd-fd2b-24830847a3d3"
      },
      "source": [
        "# aplicando o pipeline com o pré-processador \"StandardScaler\"\n",
        "# e classificador com \"max_depth = 3\" (profundidade máxima da árvore)\n",
        "pip_max_depth_std.fit(X_train, y_train)\n",
        "acuracia = pip_max_depth_std.score(X_test, y_test)\n",
        "acuracia"
      ],
      "execution_count": 54,
      "outputs": [
        {
          "output_type": "execute_result",
          "data": {
            "text/plain": [
              "0.8211690039922203"
            ]
          },
          "metadata": {},
          "execution_count": 54
        }
      ]
    },
    {
      "cell_type": "markdown",
      "metadata": {
        "id": "e8obb_DVUwSp"
      },
      "source": [
        "**Processando colunas distintas**"
      ]
    },
    {
      "cell_type": "code",
      "metadata": {
        "colab": {
          "base_uri": "https://localhost:8080/",
          "height": 457
        },
        "id": "YxXyyncARtUk",
        "outputId": "e57789ef-4ebf-4bee-dc1a-955533c64b78"
      },
      "source": [
        "# visualizando\n",
        "X.head().T"
      ],
      "execution_count": 55,
      "outputs": [
        {
          "output_type": "execute_result",
          "data": {
            "text/html": [
              "<div>\n",
              "<style scoped>\n",
              "    .dataframe tbody tr th:only-of-type {\n",
              "        vertical-align: middle;\n",
              "    }\n",
              "\n",
              "    .dataframe tbody tr th {\n",
              "        vertical-align: top;\n",
              "    }\n",
              "\n",
              "    .dataframe thead th {\n",
              "        text-align: right;\n",
              "    }\n",
              "</style>\n",
              "<table border=\"1\" class=\"dataframe\">\n",
              "  <thead>\n",
              "    <tr style=\"text-align: right;\">\n",
              "      <th></th>\n",
              "      <th>0</th>\n",
              "      <th>1</th>\n",
              "      <th>2</th>\n",
              "      <th>3</th>\n",
              "      <th>4</th>\n",
              "    </tr>\n",
              "  </thead>\n",
              "  <tbody>\n",
              "    <tr>\n",
              "      <th>age</th>\n",
              "      <td>39</td>\n",
              "      <td>50</td>\n",
              "      <td>38</td>\n",
              "      <td>53</td>\n",
              "      <td>28</td>\n",
              "    </tr>\n",
              "    <tr>\n",
              "      <th>workclass</th>\n",
              "      <td>State-gov</td>\n",
              "      <td>Self-emp-not-inc</td>\n",
              "      <td>Private</td>\n",
              "      <td>Private</td>\n",
              "      <td>Private</td>\n",
              "    </tr>\n",
              "    <tr>\n",
              "      <th>fnlwgt</th>\n",
              "      <td>77516</td>\n",
              "      <td>83311</td>\n",
              "      <td>215646</td>\n",
              "      <td>234721</td>\n",
              "      <td>338409</td>\n",
              "    </tr>\n",
              "    <tr>\n",
              "      <th>education-num</th>\n",
              "      <td>13</td>\n",
              "      <td>13</td>\n",
              "      <td>9</td>\n",
              "      <td>7</td>\n",
              "      <td>13</td>\n",
              "    </tr>\n",
              "    <tr>\n",
              "      <th>matital-status</th>\n",
              "      <td>Never-married</td>\n",
              "      <td>Married-civ-spouse</td>\n",
              "      <td>Divorced</td>\n",
              "      <td>Married-civ-spouse</td>\n",
              "      <td>Married-civ-spouse</td>\n",
              "    </tr>\n",
              "    <tr>\n",
              "      <th>occupation</th>\n",
              "      <td>Adm-clerical</td>\n",
              "      <td>Exec-managerial</td>\n",
              "      <td>Handlers-cleaners</td>\n",
              "      <td>Handlers-cleaners</td>\n",
              "      <td>Prof-specialty</td>\n",
              "    </tr>\n",
              "    <tr>\n",
              "      <th>relationship</th>\n",
              "      <td>Not-in-family</td>\n",
              "      <td>Husband</td>\n",
              "      <td>Not-in-family</td>\n",
              "      <td>Husband</td>\n",
              "      <td>Wife</td>\n",
              "    </tr>\n",
              "    <tr>\n",
              "      <th>race</th>\n",
              "      <td>White</td>\n",
              "      <td>White</td>\n",
              "      <td>White</td>\n",
              "      <td>Black</td>\n",
              "      <td>Black</td>\n",
              "    </tr>\n",
              "    <tr>\n",
              "      <th>sex</th>\n",
              "      <td>Male</td>\n",
              "      <td>Male</td>\n",
              "      <td>Male</td>\n",
              "      <td>Male</td>\n",
              "      <td>Female</td>\n",
              "    </tr>\n",
              "    <tr>\n",
              "      <th>capital-gain</th>\n",
              "      <td>2174</td>\n",
              "      <td>0</td>\n",
              "      <td>0</td>\n",
              "      <td>0</td>\n",
              "      <td>0</td>\n",
              "    </tr>\n",
              "    <tr>\n",
              "      <th>capital-loss</th>\n",
              "      <td>0</td>\n",
              "      <td>0</td>\n",
              "      <td>0</td>\n",
              "      <td>0</td>\n",
              "      <td>0</td>\n",
              "    </tr>\n",
              "    <tr>\n",
              "      <th>hours-per-week</th>\n",
              "      <td>40</td>\n",
              "      <td>13</td>\n",
              "      <td>40</td>\n",
              "      <td>40</td>\n",
              "      <td>40</td>\n",
              "    </tr>\n",
              "    <tr>\n",
              "      <th>native-country</th>\n",
              "      <td>United-States</td>\n",
              "      <td>United-States</td>\n",
              "      <td>United-States</td>\n",
              "      <td>United-States</td>\n",
              "      <td>Cuba</td>\n",
              "    </tr>\n",
              "  </tbody>\n",
              "</table>\n",
              "</div>"
            ],
            "text/plain": [
              "                             0  ...                    4\n",
              "age                         39  ...                   28\n",
              "workclass            State-gov  ...              Private\n",
              "fnlwgt                   77516  ...               338409\n",
              "education-num               13  ...                   13\n",
              "matital-status   Never-married  ...   Married-civ-spouse\n",
              "occupation        Adm-clerical  ...       Prof-specialty\n",
              "relationship     Not-in-family  ...                 Wife\n",
              "race                     White  ...                Black\n",
              "sex                       Male  ...               Female\n",
              "capital-gain              2174  ...                    0\n",
              "capital-loss                 0  ...                    0\n",
              "hours-per-week              40  ...                   40\n",
              "native-country   United-States  ...                 Cuba\n",
              "\n",
              "[13 rows x 5 columns]"
            ]
          },
          "metadata": {},
          "execution_count": 55
        }
      ]
    },
    {
      "cell_type": "markdown",
      "metadata": {
        "id": "Ir3Iu1_lU5et"
      },
      "source": [
        "Podemos criar pipelines para que certas tarefas sejam aplicadas somente em determinadas colunas e não no conjunto de dado completo."
      ]
    },
    {
      "cell_type": "markdown",
      "metadata": {
        "id": "LrqSW087U7P1"
      },
      "source": [
        "Não é o caso aqui, mas vamos supor que as colunas education-num e race tem valores faltantes, então vamos criar um pipeline para automatizar o preenchimento desses valores."
      ]
    },
    {
      "cell_type": "code",
      "metadata": {
        "id": "h5S4l-ETRtSO"
      },
      "source": [
        "# importando as bibliotecas\n",
        "from sklearn.compose import ColumnTransformer\n",
        "from sklearn.impute import SimpleImputer"
      ],
      "execution_count": 56,
      "outputs": []
    },
    {
      "cell_type": "markdown",
      "metadata": {
        "id": "znbZPVPEVULR"
      },
      "source": [
        "**Pipeline com etapa de preenchimento de valores ausentes pela mediana.**"
      ]
    },
    {
      "cell_type": "code",
      "metadata": {
        "id": "zN8ij6xlRtP7"
      },
      "source": [
        "# preencher valores faltantes com a mediana\n",
        "mediana = Pipeline(steps=[\n",
        "                          ('mediana', SimpleImputer(strategy='median'))\n",
        "])"
      ],
      "execution_count": 57,
      "outputs": []
    },
    {
      "cell_type": "markdown",
      "metadata": {
        "id": "nlOoyjY8Vurq"
      },
      "source": [
        "**Pipeline com etapa de preenchimento de valores ausentes pelo valor mais frequente.**"
      ]
    },
    {
      "cell_type": "code",
      "metadata": {
        "id": "Iu4vf7mvVX1q"
      },
      "source": [
        "# preencher valores faltantes com o valor mais frequente\n",
        "frequente = Pipeline(steps=[\n",
        "                            ('frequente', SimpleImputer(strategy='most_frequent'))\n",
        "])"
      ],
      "execution_count": 58,
      "outputs": []
    },
    {
      "cell_type": "markdown",
      "metadata": {
        "id": "86HCFPM9WFzz"
      },
      "source": [
        "**Criação do Pipeline que compõem os outros dois.**"
      ]
    },
    {
      "cell_type": "markdown",
      "metadata": {
        "id": "LOELtveWWKoA"
      },
      "source": [
        "Aqui estamos encadeando os dois pipelines criados acima."
      ]
    },
    {
      "cell_type": "code",
      "metadata": {
        "id": "00azOZAeWLoG"
      },
      "source": [
        "# criando um pipeline para imputação de dados e cada coluna distinta\n",
        "data_cleaning = ColumnTransformer(transformers=[\n",
        "                                                ('mediana', mediana, ['education-num']),\n",
        "                                                ('frequent', frequente, ['race'])\n",
        "])"
      ],
      "execution_count": 59,
      "outputs": []
    },
    {
      "cell_type": "markdown",
      "metadata": {
        "id": "cy1uYETRWq-s"
      },
      "source": [
        "**Pipeline Final.**"
      ]
    },
    {
      "cell_type": "code",
      "metadata": {
        "id": "-lEzpmp7WBB8"
      },
      "source": [
        "# criando a versão final do pipeline\n",
        "pipeline_final = Pipeline([\n",
        "                           ('datacleaning', data_cleaning),         # primeira etapa do pipeline é o data_cleaning\n",
        "                           ('ohe', OneHotEncoder()),                # aplicação de ohe nos dados\n",
        "                           ('standerScaler', StandardScaler()),     # pré-processamento de dados com o StandardScaler\n",
        "                           ('tree', DecisionTreeClassifier())       # instanciando o modelo de árvore de decisão\n",
        "])"
      ],
      "execution_count": 60,
      "outputs": []
    },
    {
      "cell_type": "code",
      "metadata": {
        "colab": {
          "base_uri": "https://localhost:8080/"
        },
        "id": "IuVKNgxrVXyZ",
        "outputId": "30253489-9804-4fbf-a905-ee3d9d464832"
      },
      "source": [
        "# passando os dados de treino para o pipeline final\n",
        "pipeline_final.fit(X_train, y_train)"
      ],
      "execution_count": 61,
      "outputs": [
        {
          "output_type": "execute_result",
          "data": {
            "text/plain": [
              "Pipeline(steps=[('datacleaning',\n",
              "                 ColumnTransformer(transformers=[('mediana',\n",
              "                                                  Pipeline(steps=[('mediana',\n",
              "                                                                   SimpleImputer(strategy='median'))]),\n",
              "                                                  ['education-num']),\n",
              "                                                 ('frequent',\n",
              "                                                  Pipeline(steps=[('frequente',\n",
              "                                                                   SimpleImputer(strategy='most_frequent'))]),\n",
              "                                                  ['race'])])),\n",
              "                ('ohe', OneHotEncoder(cols=[0, 1])),\n",
              "                ('standerScaler', StandardScaler()),\n",
              "                ('tree', DecisionTreeClassifier())])"
            ]
          },
          "metadata": {},
          "execution_count": 61
        }
      ]
    },
    {
      "cell_type": "code",
      "metadata": {
        "colab": {
          "base_uri": "https://localhost:8080/"
        },
        "id": "Ijn8063OVXwi",
        "outputId": "b8b54837-b9c1-4b3b-a3f2-fd820a2d4ff4"
      },
      "source": [
        "# realizando as previsões\n",
        "pipeline_final.predict(X_test)"
      ],
      "execution_count": 62,
      "outputs": [
        {
          "output_type": "execute_result",
          "data": {
            "text/plain": [
              "array([' <=50K', ' <=50K', ' <=50K', ..., ' <=50K', ' <=50K', ' <=50K'],\n",
              "      dtype=object)"
            ]
          },
          "metadata": {},
          "execution_count": 62
        }
      ]
    },
    {
      "cell_type": "code",
      "metadata": {
        "colab": {
          "base_uri": "https://localhost:8080/"
        },
        "id": "LbjOFTXMVXuw",
        "outputId": "e21dcf95-0c93-4885-d2d4-ac83dc144218"
      },
      "source": [
        "# visualizando acurácia do modelo\n",
        "acuracia = pipeline_final.score(X_test, y_test)\n",
        "acuracia"
      ],
      "execution_count": 63,
      "outputs": [
        {
          "output_type": "execute_result",
          "data": {
            "text/plain": [
              "0.781553894973897"
            ]
          },
          "metadata": {},
          "execution_count": 63
        }
      ]
    },
    {
      "cell_type": "markdown",
      "metadata": {
        "id": "8SYKEJBrX9c0"
      },
      "source": [
        "**Grid Search e Pipelines**"
      ]
    },
    {
      "cell_type": "markdown",
      "metadata": {
        "id": "xFoNks0UYB5k"
      },
      "source": [
        "O Grid Search faz uma busca em gride para encontrar os melhores parâmetros do modelo."
      ]
    },
    {
      "cell_type": "code",
      "metadata": {
        "id": "LRUy2GiiVXsv"
      },
      "source": [
        "# importando a biblioteca\n",
        "from sklearn.model_selection import GridSearchCV"
      ],
      "execution_count": 64,
      "outputs": []
    },
    {
      "cell_type": "code",
      "metadata": {
        "colab": {
          "base_uri": "https://localhost:8080/"
        },
        "id": "KbcNorwaVXpJ",
        "outputId": "93049d3f-3794-4da6-c4a8-6af5892ffae3"
      },
      "source": [
        "# parâmetros para fazer o grid\n",
        "params_grid = dict(tree__max_depth=[3,4,5,6,7,8,9,10])\n",
        "params_grid"
      ],
      "execution_count": 65,
      "outputs": [
        {
          "output_type": "execute_result",
          "data": {
            "text/plain": [
              "{'tree__max_depth': [3, 4, 5, 6, 7, 8, 9, 10]}"
            ]
          },
          "metadata": {},
          "execution_count": 65
        }
      ]
    },
    {
      "cell_type": "code",
      "metadata": {
        "id": "28b4KysMVXnW"
      },
      "source": [
        "# instanciando o objeto grid com os parâmetros: pipeline_final, params_grid\n",
        "# e configurando a validação cruzada com 5 folds\n",
        "grid = GridSearchCV(pipeline_final, params_grid,\n",
        "                    cv=5, scoring='accuracy', )"
      ],
      "execution_count": 66,
      "outputs": []
    },
    {
      "cell_type": "markdown",
      "metadata": {
        "id": "qp8UuBdNZHHV"
      },
      "source": [
        "Aqui o nosso modelo vai ser o pipeline final, tratando os valores ausentes (como exemplo), fazendo o one hot encoder e colocando os dados em uma mesma escala."
      ]
    },
    {
      "cell_type": "code",
      "metadata": {
        "colab": {
          "base_uri": "https://localhost:8080/"
        },
        "id": "4pHVitziVXli",
        "outputId": "bcdf772d-0ab3-4b26-8763-6ff79f7d2ccf"
      },
      "source": [
        "# aplicando o objeto \"grid\" nos dados de treino\n",
        "grid.fit(X_train, y_train)"
      ],
      "execution_count": 67,
      "outputs": [
        {
          "output_type": "execute_result",
          "data": {
            "text/plain": [
              "GridSearchCV(cv=5,\n",
              "             estimator=Pipeline(steps=[('datacleaning',\n",
              "                                        ColumnTransformer(transformers=[('mediana',\n",
              "                                                                         Pipeline(steps=[('mediana',\n",
              "                                                                                          SimpleImputer(strategy='median'))]),\n",
              "                                                                         ['education-num']),\n",
              "                                                                        ('frequent',\n",
              "                                                                         Pipeline(steps=[('frequente',\n",
              "                                                                                          SimpleImputer(strategy='most_frequent'))]),\n",
              "                                                                         ['race'])])),\n",
              "                                       ('ohe', OneHotEncoder(cols=[0, 1])),\n",
              "                                       ('standerScaler', StandardScaler()),\n",
              "                                       ('tree', DecisionTreeClassifier())]),\n",
              "             param_grid={'tree__max_depth': [3, 4, 5, 6, 7, 8, 9, 10]},\n",
              "             scoring='accuracy')"
            ]
          },
          "metadata": {},
          "execution_count": 67
        }
      ]
    },
    {
      "cell_type": "code",
      "metadata": {
        "colab": {
          "base_uri": "https://localhost:8080/"
        },
        "id": "89CvPlzbuJXN",
        "outputId": "f05f7520-c9fb-45b7-e39d-ea46b61902ce"
      },
      "source": [
        "# visualizando a lista de parâmetros\n",
        "grid.estimator.get_params().keys()"
      ],
      "execution_count": 68,
      "outputs": [
        {
          "output_type": "execute_result",
          "data": {
            "text/plain": [
              "dict_keys(['memory', 'steps', 'verbose', 'datacleaning', 'ohe', 'standerScaler', 'tree', 'datacleaning__n_jobs', 'datacleaning__remainder', 'datacleaning__sparse_threshold', 'datacleaning__transformer_weights', 'datacleaning__transformers', 'datacleaning__verbose', 'datacleaning__verbose_feature_names_out', 'datacleaning__mediana', 'datacleaning__frequent', 'datacleaning__mediana__memory', 'datacleaning__mediana__steps', 'datacleaning__mediana__verbose', 'datacleaning__mediana__mediana', 'datacleaning__mediana__mediana__add_indicator', 'datacleaning__mediana__mediana__copy', 'datacleaning__mediana__mediana__fill_value', 'datacleaning__mediana__mediana__missing_values', 'datacleaning__mediana__mediana__strategy', 'datacleaning__mediana__mediana__verbose', 'datacleaning__frequent__memory', 'datacleaning__frequent__steps', 'datacleaning__frequent__verbose', 'datacleaning__frequent__frequente', 'datacleaning__frequent__frequente__add_indicator', 'datacleaning__frequent__frequente__copy', 'datacleaning__frequent__frequente__fill_value', 'datacleaning__frequent__frequente__missing_values', 'datacleaning__frequent__frequente__strategy', 'datacleaning__frequent__frequente__verbose', 'ohe__cols', 'ohe__drop_invariant', 'ohe__handle_missing', 'ohe__handle_unknown', 'ohe__return_df', 'ohe__use_cat_names', 'ohe__verbose', 'standerScaler__copy', 'standerScaler__with_mean', 'standerScaler__with_std', 'tree__ccp_alpha', 'tree__class_weight', 'tree__criterion', 'tree__max_depth', 'tree__max_features', 'tree__max_leaf_nodes', 'tree__min_impurity_decrease', 'tree__min_samples_leaf', 'tree__min_samples_split', 'tree__min_weight_fraction_leaf', 'tree__random_state', 'tree__splitter'])"
            ]
          },
          "metadata": {},
          "execution_count": 68
        }
      ]
    },
    {
      "cell_type": "markdown",
      "metadata": {
        "id": "Dd4GH1M2kLtC"
      },
      "source": [
        "**Resultados**"
      ]
    },
    {
      "cell_type": "code",
      "metadata": {
        "colab": {
          "base_uri": "https://localhost:8080/"
        },
        "id": "hz_t8jPNVXh1",
        "outputId": "3e61a09b-48c7-4458-91a8-a00df50243c3"
      },
      "source": [
        "# visualizando o resultado do modelo\n",
        "grid.cv_results_"
      ],
      "execution_count": 69,
      "outputs": [
        {
          "output_type": "execute_result",
          "data": {
            "text/plain": [
              "{'mean_fit_time': array([0.11721387, 0.10776248, 0.10908451, 0.1095643 , 0.11298046,\n",
              "        0.1139008 , 0.11304517, 0.11305346]),\n",
              " 'mean_score_time': array([0.0280499 , 0.02652721, 0.02645574, 0.02796211, 0.02851458,\n",
              "        0.02859235, 0.02849135, 0.02806153]),\n",
              " 'mean_test_score': array([0.77215683, 0.7781678 , 0.7781678 , 0.7781678 , 0.7781678 ,\n",
              "        0.77808004, 0.77808004, 0.77808004]),\n",
              " 'param_tree__max_depth': masked_array(data=[3, 4, 5, 6, 7, 8, 9, 10],\n",
              "              mask=[False, False, False, False, False, False, False, False],\n",
              "        fill_value='?',\n",
              "             dtype=object),\n",
              " 'params': [{'tree__max_depth': 3},\n",
              "  {'tree__max_depth': 4},\n",
              "  {'tree__max_depth': 5},\n",
              "  {'tree__max_depth': 6},\n",
              "  {'tree__max_depth': 7},\n",
              "  {'tree__max_depth': 8},\n",
              "  {'tree__max_depth': 9},\n",
              "  {'tree__max_depth': 10}],\n",
              " 'rank_test_score': array([8, 1, 1, 1, 1, 5, 5, 5], dtype=int32),\n",
              " 'split0_test_score': array([0.77407326, 0.77889888, 0.77889888, 0.77889888, 0.77889888,\n",
              "        0.77889888, 0.77889888, 0.77889888]),\n",
              " 'split1_test_score': array([0.77166045, 0.77692476, 0.77692476, 0.77692476, 0.77692476,\n",
              "        0.77692476, 0.77692476, 0.77692476]),\n",
              " 'split2_test_score': array([0.76744186, 0.77182975, 0.77182975, 0.77182975, 0.77182975,\n",
              "        0.77139096, 0.77139096, 0.77139096]),\n",
              " 'split3_test_score': array([0.77248793, 0.78016674, 0.78016674, 0.78016674, 0.78016674,\n",
              "        0.78016674, 0.78016674, 0.78016674]),\n",
              " 'split4_test_score': array([0.77512067, 0.78301887, 0.78301887, 0.78301887, 0.78301887,\n",
              "        0.78301887, 0.78301887, 0.78301887]),\n",
              " 'std_fit_time': array([0.0084673 , 0.00473585, 0.00446062, 0.00439498, 0.00256881,\n",
              "        0.00300855, 0.00271096, 0.00637663]),\n",
              " 'std_score_time': array([0.0016052 , 0.00068824, 0.00055179, 0.00161282, 0.0019575 ,\n",
              "        0.00232977, 0.00166846, 0.00385687]),\n",
              " 'std_test_score': array([0.00264741, 0.00373575, 0.00373575, 0.00373575, 0.00373575,\n",
              "        0.00388575, 0.00388575, 0.00388575])}"
            ]
          },
          "metadata": {},
          "execution_count": 69
        }
      ]
    },
    {
      "cell_type": "code",
      "metadata": {
        "colab": {
          "base_uri": "https://localhost:8080/"
        },
        "id": "9UsWKCdxVXgF",
        "outputId": "4b1da942-daac-48a1-d01e-fc09a65a3bd1"
      },
      "source": [
        "# visualizando o melhor parâmetro de profundidade da árvore\n",
        "grid.best_params_"
      ],
      "execution_count": 70,
      "outputs": [
        {
          "output_type": "execute_result",
          "data": {
            "text/plain": [
              "{'tree__max_depth': 4}"
            ]
          },
          "metadata": {},
          "execution_count": 70
        }
      ]
    },
    {
      "cell_type": "markdown",
      "metadata": {
        "id": "qTzC3w90kZ8x"
      },
      "source": [
        "> Nosso melhor modelo foi com o `max_depth = 4`."
      ]
    },
    {
      "cell_type": "code",
      "metadata": {
        "colab": {
          "base_uri": "https://localhost:8080/"
        },
        "id": "574lzFa6kbPZ",
        "outputId": "6890956c-3c7a-4581-cfb1-dde3d1830065"
      },
      "source": [
        "# visualizando o score do modelo\n",
        "grid.best_score_"
      ],
      "execution_count": 71,
      "outputs": [
        {
          "output_type": "execute_result",
          "data": {
            "text/plain": [
              "0.778167800629858"
            ]
          },
          "metadata": {},
          "execution_count": 71
        }
      ]
    },
    {
      "cell_type": "markdown",
      "metadata": {
        "id": "xC6-X7Z0kiZs"
      },
      "source": [
        "Esse modelo obteve uma acurácia de 78% aproximadamente.\n",
        "\n",
        "Você deve está se perguntando, já obtemos uma acurácia de 0.80 anteriormente e agora a nossa acurácia é de 0.78, não devemos considerar o modelo anterior?\n",
        "\n",
        "Sugiro que leia o artigo de árvore de decisão https://minerandodados.com.br/arvores-de-decisao-conceitos-e-aplicacoes/, onde é explicado que esse algoritmo está propenso a sofrer `overfitting (sobreajuste)`, e uma das maneiras de resolver isso é fazendo o **cross validation**. A acurácia é menor mas garantimos que a performance do modelo será boa quando ele for apresentado a novos dados.\n",
        "- **Esse artigo também está disponível em formato de vídeo:**\n",
        " - https://youtu.be/V4svMrIjp7s\n",
        "\n"
      ]
    },
    {
      "cell_type": "markdown",
      "metadata": {
        "id": "qrxOGUHDzHkg"
      },
      "source": [
        "**Vamos realizar outros testes com o Grid Search e os Pipelines**"
      ]
    },
    {
      "cell_type": "code",
      "metadata": {
        "colab": {
          "base_uri": "https://localhost:8080/"
        },
        "id": "qHnQi6f5zGXu",
        "outputId": "76a094df-ca39-4451-e9e0-85d6601ebecc"
      },
      "source": [
        "# definindo outros parâmetros\n",
        "import numpy as np\n",
        "\n",
        "# params = {'tree__max_depth': np.arange(0, 20)}\n",
        "# params\n",
        "\n",
        "params = {'tree__max_depth': range(0, 10)}\n",
        "params"
      ],
      "execution_count": 72,
      "outputs": [
        {
          "output_type": "execute_result",
          "data": {
            "text/plain": [
              "{'tree__max_depth': range(0, 10)}"
            ]
          },
          "metadata": {},
          "execution_count": 72
        }
      ]
    },
    {
      "cell_type": "code",
      "metadata": {
        "id": "OTeybYqBzGUl"
      },
      "source": [
        "# instanciando o objeto grid com os parâmetros\n",
        "# e configurando a validação cruzada com 5 folds\n",
        "grid2 = GridSearchCV(pipeline_final,\n",
        "                    param_grid=params,\n",
        "                    cv=5, scoring='accuracy', )"
      ],
      "execution_count": 73,
      "outputs": []
    },
    {
      "cell_type": "code",
      "metadata": {
        "colab": {
          "base_uri": "https://localhost:8080/"
        },
        "id": "jCCqNZZazGSY",
        "outputId": "b1c59527-473d-434e-d1e7-3c28a65b1968"
      },
      "source": [
        "# aplicando o modelo\n",
        "grid2.fit(X_train, y_train)"
      ],
      "execution_count": 74,
      "outputs": [
        {
          "output_type": "execute_result",
          "data": {
            "text/plain": [
              "GridSearchCV(cv=5,\n",
              "             estimator=Pipeline(steps=[('datacleaning',\n",
              "                                        ColumnTransformer(transformers=[('mediana',\n",
              "                                                                         Pipeline(steps=[('mediana',\n",
              "                                                                                          SimpleImputer(strategy='median'))]),\n",
              "                                                                         ['education-num']),\n",
              "                                                                        ('frequent',\n",
              "                                                                         Pipeline(steps=[('frequente',\n",
              "                                                                                          SimpleImputer(strategy='most_frequent'))]),\n",
              "                                                                         ['race'])])),\n",
              "                                       ('ohe', OneHotEncoder(cols=[0, 1])),\n",
              "                                       ('standerScaler', StandardScaler()),\n",
              "                                       ('tree', DecisionTreeClassifier())]),\n",
              "             param_grid={'tree__max_depth': range(0, 10)}, scoring='accuracy')"
            ]
          },
          "metadata": {},
          "execution_count": 74
        }
      ]
    },
    {
      "cell_type": "code",
      "metadata": {
        "colab": {
          "base_uri": "https://localhost:8080/"
        },
        "id": "P-ZCfPsO1tlp",
        "outputId": "79a76b86-dd4a-4149-8f83-307009c5cc2e"
      },
      "source": [
        "# visualizando o melhor parâmetro\n",
        "grid2.best_params_"
      ],
      "execution_count": 75,
      "outputs": [
        {
          "output_type": "execute_result",
          "data": {
            "text/plain": [
              "{'tree__max_depth': 4}"
            ]
          },
          "metadata": {},
          "execution_count": 75
        }
      ]
    },
    {
      "cell_type": "code",
      "metadata": {
        "colab": {
          "base_uri": "https://localhost:8080/"
        },
        "id": "OhuiW0rQzGPX",
        "outputId": "88180753-c22b-484c-efbd-47135e408224"
      },
      "source": [
        "# visualizando o resultado\n",
        "grid2.cv_results_"
      ],
      "execution_count": 76,
      "outputs": [
        {
          "output_type": "execute_result",
          "data": {
            "text/plain": [
              "{'mean_fit_time': array([0.10678301, 0.10751357, 0.10568309, 0.10684953, 0.11000066,\n",
              "        0.10652838, 0.11289392, 0.11131392, 0.10998902, 0.11494107]),\n",
              " 'mean_score_time': array([0.        , 0.02720556, 0.02665954, 0.02793212, 0.02682443,\n",
              "        0.02697992, 0.02739367, 0.02611747, 0.02659521, 0.02912207]),\n",
              " 'mean_test_score': array([       nan, 0.75833634, 0.76395229, 0.77215683, 0.7781678 ,\n",
              "        0.7781678 , 0.7781678 , 0.7781678 , 0.77808004, 0.77808004]),\n",
              " 'param_tree__max_depth': masked_array(data=[0, 1, 2, 3, 4, 5, 6, 7, 8, 9],\n",
              "              mask=[False, False, False, False, False, False, False, False,\n",
              "                    False, False],\n",
              "        fill_value='?',\n",
              "             dtype=object),\n",
              " 'params': [{'tree__max_depth': 0},\n",
              "  {'tree__max_depth': 1},\n",
              "  {'tree__max_depth': 2},\n",
              "  {'tree__max_depth': 3},\n",
              "  {'tree__max_depth': 4},\n",
              "  {'tree__max_depth': 5},\n",
              "  {'tree__max_depth': 6},\n",
              "  {'tree__max_depth': 7},\n",
              "  {'tree__max_depth': 8},\n",
              "  {'tree__max_depth': 9}],\n",
              " 'rank_test_score': array([10,  9,  8,  7,  1,  1,  1,  1,  5,  5], dtype=int32),\n",
              " 'split0_test_score': array([       nan, 0.75740294, 0.76661549, 0.77407326, 0.77889888,\n",
              "        0.77889888, 0.77889888, 0.77889888, 0.77889888, 0.77889888]),\n",
              " 'split1_test_score': array([       nan, 0.75740294, 0.76069313, 0.77166045, 0.77692476,\n",
              "        0.77692476, 0.77692476, 0.77692476, 0.77692476, 0.77692476]),\n",
              " 'split2_test_score': array([       nan, 0.7617376 , 0.76239579, 0.76744186, 0.77182975,\n",
              "        0.77182975, 0.77182975, 0.77182975, 0.77139096, 0.77139096]),\n",
              " 'split3_test_score': array([       nan, 0.75756911, 0.76502852, 0.77248793, 0.78016674,\n",
              "        0.78016674, 0.78016674, 0.78016674, 0.78016674, 0.78016674]),\n",
              " 'split4_test_score': array([       nan, 0.75756911, 0.76502852, 0.77512067, 0.78301887,\n",
              "        0.78301887, 0.78301887, 0.78301887, 0.78301887, 0.78301887]),\n",
              " 'std_fit_time': array([0.00391379, 0.00804023, 0.00252996, 0.00283107, 0.00355871,\n",
              "        0.00355984, 0.00490115, 0.00335277, 0.00266003, 0.00583994]),\n",
              " 'std_score_time': array([0.        , 0.00102894, 0.00070081, 0.00141621, 0.00029014,\n",
              "        0.00115185, 0.00207047, 0.00036629, 0.00028489, 0.00351957]),\n",
              " 'std_test_score': array([       nan, 0.00170225, 0.00211915, 0.00264741, 0.00373575,\n",
              "        0.00373575, 0.00373575, 0.00373575, 0.00388575, 0.00388575])}"
            ]
          },
          "metadata": {},
          "execution_count": 76
        }
      ]
    },
    {
      "cell_type": "code",
      "metadata": {
        "colab": {
          "base_uri": "https://localhost:8080/"
        },
        "id": "PyR9ZdVBzGNB",
        "outputId": "1c92e563-1ac5-4029-eb42-b19271bb36f3"
      },
      "source": [
        "# score final\n",
        "grid2.best_score_"
      ],
      "execution_count": 77,
      "outputs": [
        {
          "output_type": "execute_result",
          "data": {
            "text/plain": [
              "0.778167800629858"
            ]
          },
          "metadata": {},
          "execution_count": 77
        }
      ]
    },
    {
      "cell_type": "code",
      "metadata": {
        "id": "kEUc0uqLzGKF",
        "colab": {
          "base_uri": "https://localhost:8080/"
        },
        "outputId": "4c4d38b2-34e2-4104-cbfb-2c8ca8ce5be0"
      },
      "source": [
        "# realizando as previsões\n",
        "grid2.predict(X_test)"
      ],
      "execution_count": 78,
      "outputs": [
        {
          "output_type": "execute_result",
          "data": {
            "text/plain": [
              "array([' <=50K', ' <=50K', ' <=50K', ..., ' <=50K', ' <=50K', ' <=50K'],\n",
              "      dtype=object)"
            ]
          },
          "metadata": {},
          "execution_count": 78
        }
      ]
    },
    {
      "cell_type": "code",
      "metadata": {
        "id": "KkA1wUH0zGHx",
        "colab": {
          "base_uri": "https://localhost:8080/"
        },
        "outputId": "93ba05e3-4037-45ac-a1e0-1a95a47e200e"
      },
      "source": [
        "# visualizando acurácia do modelo\n",
        "acuracia = grid2.score(X_test, y_test)\n",
        "acuracia"
      ],
      "execution_count": 79,
      "outputs": [
        {
          "output_type": "execute_result",
          "data": {
            "text/plain": [
              "0.7817586242194697"
            ]
          },
          "metadata": {},
          "execution_count": 79
        }
      ]
    },
    {
      "cell_type": "code",
      "metadata": {
        "id": "hhZIKLF7GxSj"
      },
      "source": [
        "# criando a versão final do pipeline\n",
        "pipeline_final = Pipeline([\n",
        "                           ('datacleaning', data_cleaning),                          # primeira etapa do pipeline é o data_cleaning\n",
        "                           ('ohe', OneHotEncoder()),                                 # aplicação de ohe nos dados\n",
        "                           ('stdscal', StandardScaler()),                            # pré-processamento de dados com o StandardScaler\n",
        "                           ('tree', DecisionTreeClassifier(class_weight='balanced')) # instanciando o modelo de árvore de decisão \n",
        "])"
      ],
      "execution_count": 80,
      "outputs": []
    },
    {
      "cell_type": "code",
      "metadata": {
        "id": "VQfzcW2ya78n"
      },
      "source": [
        "params = {'tree__max_depth': range(0, 10)}"
      ],
      "execution_count": 81,
      "outputs": []
    },
    {
      "cell_type": "code",
      "metadata": {
        "id": "ob-VvifMGxP9"
      },
      "source": [
        "grid_final = GridSearchCV(pipeline_final, param_grid= params,\n",
        "                    cv=5, scoring='accuracy')"
      ],
      "execution_count": 82,
      "outputs": []
    },
    {
      "cell_type": "code",
      "metadata": {
        "colab": {
          "base_uri": "https://localhost:8080/"
        },
        "id": "Qiiv-lw2GxNK",
        "outputId": "e0dd8909-1f4f-4d62-cb66-c08c19674488"
      },
      "source": [
        "# aplicando o modelo\n",
        "grid_final.fit(X_train, y_train)"
      ],
      "execution_count": 83,
      "outputs": [
        {
          "output_type": "execute_result",
          "data": {
            "text/plain": [
              "GridSearchCV(cv=5,\n",
              "             estimator=Pipeline(steps=[('datacleaning',\n",
              "                                        ColumnTransformer(transformers=[('mediana',\n",
              "                                                                         Pipeline(steps=[('mediana',\n",
              "                                                                                          SimpleImputer(strategy='median'))]),\n",
              "                                                                         ['education-num']),\n",
              "                                                                        ('frequent',\n",
              "                                                                         Pipeline(steps=[('frequente',\n",
              "                                                                                          SimpleImputer(strategy='most_frequent'))]),\n",
              "                                                                         ['race'])])),\n",
              "                                       ('ohe', OneHotEncoder()),\n",
              "                                       ('stdscal', StandardScaler()),\n",
              "                                       ('tree',\n",
              "                                        DecisionTreeClassifier(class_weight='balanced'))]),\n",
              "             param_grid={'tree__max_depth': range(0, 10)}, scoring='accuracy')"
            ]
          },
          "metadata": {},
          "execution_count": 83
        }
      ]
    },
    {
      "cell_type": "code",
      "metadata": {
        "colab": {
          "base_uri": "https://localhost:8080/"
        },
        "id": "Kbjcm1OoGxKM",
        "outputId": "0b749cf1-bc50-4ca1-8265-5020234f0733"
      },
      "source": [
        "# score final\n",
        "grid_final.best_score_"
      ],
      "execution_count": 84,
      "outputs": [
        {
          "output_type": "execute_result",
          "data": {
            "text/plain": [
              "0.7515796353807296"
            ]
          },
          "metadata": {},
          "execution_count": 84
        }
      ]
    },
    {
      "cell_type": "code",
      "metadata": {
        "colab": {
          "base_uri": "https://localhost:8080/"
        },
        "id": "_r258P2WGxHb",
        "outputId": "f107d023-7c68-4149-e2fa-0cf5be53577b"
      },
      "source": [
        "# realizando as previsões\n",
        "grid_final.predict(X_test)"
      ],
      "execution_count": 85,
      "outputs": [
        {
          "output_type": "execute_result",
          "data": {
            "text/plain": [
              "array([' <=50K', ' <=50K', ' >50K', ..., ' <=50K', ' <=50K', ' >50K'],\n",
              "      dtype=object)"
            ]
          },
          "metadata": {},
          "execution_count": 85
        }
      ]
    },
    {
      "cell_type": "code",
      "metadata": {
        "colab": {
          "base_uri": "https://localhost:8080/"
        },
        "id": "9Go2bmgcGxFG",
        "outputId": "9150f926-c0f8-4e14-d29b-36bfe4391958"
      },
      "source": [
        "# visualizando acurácia do modelo\n",
        "acuracia = grid_final.score(X_test, y_test)\n",
        "acuracia"
      ],
      "execution_count": 86,
      "outputs": [
        {
          "output_type": "execute_result",
          "data": {
            "text/plain": [
              "0.7537107175760057"
            ]
          },
          "metadata": {},
          "execution_count": 86
        }
      ]
    },
    {
      "cell_type": "markdown",
      "metadata": {
        "id": "0L3ZtCTJkuXv"
      },
      "source": [
        "**Conclusão**\n",
        "\n",
        "Os pipelines aumentam consideravelmente a produtividade do Cientista de Dados, uma vez, que ele reduz a quantidade de código a ser escrita e minimiza as chances de erro para uma determinada tarefa que precisa ser aplicada ao dados. Com o pipeline nossos scripts ficam mais organizados e mais simples de manipular.\n"
      ]
    },
    {
      "cell_type": "code",
      "metadata": {
        "colab": {
          "base_uri": "https://localhost:8080/"
        },
        "id": "69VdopeVGw9d",
        "outputId": "6cfb5c52-6607-4414-f6e5-f61f294eca63"
      },
      "source": [
        "# visualizando a versão do Python utilizado neste notebook\n",
        "from platform import python_version\n",
        "print(f'Versão Python: {python_version()}')"
      ],
      "execution_count": 87,
      "outputs": [
        {
          "output_type": "stream",
          "name": "stdout",
          "text": [
            "Versão Python: 3.7.12\n"
          ]
        }
      ]
    },
    {
      "cell_type": "code",
      "metadata": {
        "colab": {
          "base_uri": "https://localhost:8080/"
        },
        "id": "aBuq5F4Ac1cm",
        "outputId": "4b454be7-dd66-4387-c507-29c7e9e1deed"
      },
      "source": [
        "# instalando a biblioteca \"watermark\"\n",
        "!pip install watermark \n",
        "# esse pacote é usado para gravar as versões dos pacotes usados neste notebook"
      ],
      "execution_count": 88,
      "outputs": [
        {
          "output_type": "stream",
          "name": "stdout",
          "text": [
            "Requirement already satisfied: watermark in /usr/local/lib/python3.7/dist-packages (2.2.0)\n",
            "Requirement already satisfied: ipython in /usr/local/lib/python3.7/dist-packages (from watermark) (5.5.0)\n",
            "Requirement already satisfied: importlib-metadata<3.0 in /usr/local/lib/python3.7/dist-packages (from watermark) (2.1.2)\n",
            "Requirement already satisfied: zipp>=0.5 in /usr/local/lib/python3.7/dist-packages (from importlib-metadata<3.0->watermark) (3.6.0)\n",
            "Requirement already satisfied: pexpect in /usr/local/lib/python3.7/dist-packages (from ipython->watermark) (4.8.0)\n",
            "Requirement already satisfied: pygments in /usr/local/lib/python3.7/dist-packages (from ipython->watermark) (2.6.1)\n",
            "Requirement already satisfied: traitlets>=4.2 in /usr/local/lib/python3.7/dist-packages (from ipython->watermark) (5.1.1)\n",
            "Requirement already satisfied: setuptools>=18.5 in /usr/local/lib/python3.7/dist-packages (from ipython->watermark) (57.4.0)\n",
            "Requirement already satisfied: prompt-toolkit<2.0.0,>=1.0.4 in /usr/local/lib/python3.7/dist-packages (from ipython->watermark) (1.0.18)\n",
            "Requirement already satisfied: decorator in /usr/local/lib/python3.7/dist-packages (from ipython->watermark) (4.4.2)\n",
            "Requirement already satisfied: simplegeneric>0.8 in /usr/local/lib/python3.7/dist-packages (from ipython->watermark) (0.8.1)\n",
            "Requirement already satisfied: pickleshare in /usr/local/lib/python3.7/dist-packages (from ipython->watermark) (0.7.5)\n",
            "Requirement already satisfied: wcwidth in /usr/local/lib/python3.7/dist-packages (from prompt-toolkit<2.0.0,>=1.0.4->ipython->watermark) (0.2.5)\n",
            "Requirement already satisfied: six>=1.9.0 in /usr/local/lib/python3.7/dist-packages (from prompt-toolkit<2.0.0,>=1.0.4->ipython->watermark) (1.15.0)\n",
            "Requirement already satisfied: ptyprocess>=0.5 in /usr/local/lib/python3.7/dist-packages (from pexpect->ipython->watermark) (0.7.0)\n"
          ]
        }
      ]
    },
    {
      "cell_type": "code",
      "metadata": {
        "colab": {
          "base_uri": "https://localhost:8080/"
        },
        "id": "tx7Xm1gMc1PR",
        "outputId": "06376e78-785e-4b75-9380-b715dac3d878"
      },
      "source": [
        "# versões das bibliotecas utilizadas neste notebook\n",
        "%reload_ext watermark\n",
        "%watermark -a 'Fernando Galvão | (Pipeline) Automatize as etapas de Machine Learning #20/11/2021' --iversions"
      ],
      "execution_count": 92,
      "outputs": [
        {
          "output_type": "stream",
          "name": "stdout",
          "text": [
            "Author: Fernando Galvão | (Pipeline) Automatize as etapas de Machine Learning #20/11/2021\n",
            "\n",
            "sklearn: 0.0\n",
            "numpy  : 1.19.5\n",
            "pandas : 1.1.5\n",
            "IPython: 5.5.0\n",
            "\n"
          ]
        }
      ]
    }
  ]
}